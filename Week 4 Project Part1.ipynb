{
 "cells": [
  {
   "cell_type": "markdown",
   "id": "51705308",
   "metadata": {},
   "source": [
    "# Part1 :  EDA & Data Preprocessing on Google App Store Rating Dataset."
   ]
  },
  {
   "cell_type": "markdown",
   "id": "22110a8a",
   "metadata": {},
   "source": [
    "<font color='blue' size='5'>Q1. Import required libraries and read the dataset."
   ]
  },
  {
   "cell_type": "code",
   "execution_count": 1,
   "id": "f1f93e7c",
   "metadata": {},
   "outputs": [],
   "source": [
    "# Numerical libraries\n",
    "import math\n",
    "import numpy as np   \n",
    "\n",
    "# Import Linear Regression machine learning library\n",
    "from sklearn.linear_model import LinearRegression\n",
    "\n",
    "# to handle data in form of rows and columns \n",
    "import pandas as pd    \n",
    "\n",
    "# importing ploting libraries\n",
    "import matplotlib.pyplot as plt   \n",
    "plt.style.use('classic')\n",
    "\n",
    "#importing seaborn for statistical plots\n",
    "import seaborn as sns\n",
    "\n",
    "from sklearn.model_selection import train_test_split\n",
    "import statsmodels.formula.api as smf\n",
    "from scipy.stats import zscore\n",
    "from statsmodels.stats.outliers_influence import variance_inflation_factor\n",
    "from sklearn.preprocessing import OneHotEncoder, LabelEncoder\n",
    "from sklearn.preprocessing import StandardScaler\n",
    "\n",
    "# To enable plotting graphs in Jupyter notebook\n",
    "%matplotlib inline"
   ]
  },
  {
   "cell_type": "code",
   "execution_count": 2,
   "id": "ff896d40",
   "metadata": {},
   "outputs": [],
   "source": [
    "dataapps = pd.read_csv('Apps_data.csv')"
   ]
  },
  {
   "cell_type": "code",
   "execution_count": 3,
   "id": "07d797ed",
   "metadata": {},
   "outputs": [
    {
     "data": {
      "text/html": [
       "<div>\n",
       "<style scoped>\n",
       "    .dataframe tbody tr th:only-of-type {\n",
       "        vertical-align: middle;\n",
       "    }\n",
       "\n",
       "    .dataframe tbody tr th {\n",
       "        vertical-align: top;\n",
       "    }\n",
       "\n",
       "    .dataframe thead th {\n",
       "        text-align: right;\n",
       "    }\n",
       "</style>\n",
       "<table border=\"1\" class=\"dataframe\">\n",
       "  <thead>\n",
       "    <tr style=\"text-align: right;\">\n",
       "      <th></th>\n",
       "      <th>App</th>\n",
       "      <th>Category</th>\n",
       "      <th>Rating</th>\n",
       "      <th>Reviews</th>\n",
       "      <th>Size</th>\n",
       "      <th>Installs</th>\n",
       "      <th>Type</th>\n",
       "      <th>Price</th>\n",
       "      <th>Content Rating</th>\n",
       "      <th>Genres</th>\n",
       "      <th>Last Updated</th>\n",
       "      <th>Current Ver</th>\n",
       "      <th>Android Ver</th>\n",
       "    </tr>\n",
       "  </thead>\n",
       "  <tbody>\n",
       "    <tr>\n",
       "      <th>0</th>\n",
       "      <td>Photo Editor &amp; Candy Camera &amp; Grid &amp; ScrapBook</td>\n",
       "      <td>ART_AND_DESIGN</td>\n",
       "      <td>4.1</td>\n",
       "      <td>159</td>\n",
       "      <td>19M</td>\n",
       "      <td>10,000+</td>\n",
       "      <td>Free</td>\n",
       "      <td>0</td>\n",
       "      <td>Everyone</td>\n",
       "      <td>Art &amp; Design</td>\n",
       "      <td>January 7, 2018</td>\n",
       "      <td>1.0.0</td>\n",
       "      <td>4.0.3 and up</td>\n",
       "    </tr>\n",
       "    <tr>\n",
       "      <th>1</th>\n",
       "      <td>Coloring book moana</td>\n",
       "      <td>ART_AND_DESIGN</td>\n",
       "      <td>3.9</td>\n",
       "      <td>967</td>\n",
       "      <td>14M</td>\n",
       "      <td>500,000+</td>\n",
       "      <td>Free</td>\n",
       "      <td>0</td>\n",
       "      <td>Everyone</td>\n",
       "      <td>Art &amp; Design;Pretend Play</td>\n",
       "      <td>January 15, 2018</td>\n",
       "      <td>2.0.0</td>\n",
       "      <td>4.0.3 and up</td>\n",
       "    </tr>\n",
       "    <tr>\n",
       "      <th>2</th>\n",
       "      <td>U Launcher Lite – FREE Live Cool Themes, Hide ...</td>\n",
       "      <td>ART_AND_DESIGN</td>\n",
       "      <td>4.7</td>\n",
       "      <td>87510</td>\n",
       "      <td>8.7M</td>\n",
       "      <td>5,000,000+</td>\n",
       "      <td>Free</td>\n",
       "      <td>0</td>\n",
       "      <td>Everyone</td>\n",
       "      <td>Art &amp; Design</td>\n",
       "      <td>August 1, 2018</td>\n",
       "      <td>1.2.4</td>\n",
       "      <td>4.0.3 and up</td>\n",
       "    </tr>\n",
       "    <tr>\n",
       "      <th>3</th>\n",
       "      <td>Sketch - Draw &amp; Paint</td>\n",
       "      <td>ART_AND_DESIGN</td>\n",
       "      <td>4.5</td>\n",
       "      <td>215644</td>\n",
       "      <td>25M</td>\n",
       "      <td>50,000,000+</td>\n",
       "      <td>Free</td>\n",
       "      <td>0</td>\n",
       "      <td>Teen</td>\n",
       "      <td>Art &amp; Design</td>\n",
       "      <td>June 8, 2018</td>\n",
       "      <td>Varies with device</td>\n",
       "      <td>4.2 and up</td>\n",
       "    </tr>\n",
       "    <tr>\n",
       "      <th>4</th>\n",
       "      <td>Pixel Draw - Number Art Coloring Book</td>\n",
       "      <td>ART_AND_DESIGN</td>\n",
       "      <td>4.3</td>\n",
       "      <td>967</td>\n",
       "      <td>2.8M</td>\n",
       "      <td>100,000+</td>\n",
       "      <td>Free</td>\n",
       "      <td>0</td>\n",
       "      <td>Everyone</td>\n",
       "      <td>Art &amp; Design;Creativity</td>\n",
       "      <td>June 20, 2018</td>\n",
       "      <td>1.1</td>\n",
       "      <td>4.4 and up</td>\n",
       "    </tr>\n",
       "    <tr>\n",
       "      <th>...</th>\n",
       "      <td>...</td>\n",
       "      <td>...</td>\n",
       "      <td>...</td>\n",
       "      <td>...</td>\n",
       "      <td>...</td>\n",
       "      <td>...</td>\n",
       "      <td>...</td>\n",
       "      <td>...</td>\n",
       "      <td>...</td>\n",
       "      <td>...</td>\n",
       "      <td>...</td>\n",
       "      <td>...</td>\n",
       "      <td>...</td>\n",
       "    </tr>\n",
       "    <tr>\n",
       "      <th>10836</th>\n",
       "      <td>Sya9a Maroc - FR</td>\n",
       "      <td>FAMILY</td>\n",
       "      <td>4.5</td>\n",
       "      <td>38</td>\n",
       "      <td>53M</td>\n",
       "      <td>5,000+</td>\n",
       "      <td>Free</td>\n",
       "      <td>0</td>\n",
       "      <td>Everyone</td>\n",
       "      <td>Education</td>\n",
       "      <td>July 25, 2017</td>\n",
       "      <td>1.48</td>\n",
       "      <td>4.1 and up</td>\n",
       "    </tr>\n",
       "    <tr>\n",
       "      <th>10837</th>\n",
       "      <td>Fr. Mike Schmitz Audio Teachings</td>\n",
       "      <td>FAMILY</td>\n",
       "      <td>5.0</td>\n",
       "      <td>4</td>\n",
       "      <td>3.6M</td>\n",
       "      <td>100+</td>\n",
       "      <td>Free</td>\n",
       "      <td>0</td>\n",
       "      <td>Everyone</td>\n",
       "      <td>Education</td>\n",
       "      <td>July 6, 2018</td>\n",
       "      <td>1.0</td>\n",
       "      <td>4.1 and up</td>\n",
       "    </tr>\n",
       "    <tr>\n",
       "      <th>10838</th>\n",
       "      <td>Parkinson Exercices FR</td>\n",
       "      <td>MEDICAL</td>\n",
       "      <td>NaN</td>\n",
       "      <td>3</td>\n",
       "      <td>9.5M</td>\n",
       "      <td>1,000+</td>\n",
       "      <td>Free</td>\n",
       "      <td>0</td>\n",
       "      <td>Everyone</td>\n",
       "      <td>Medical</td>\n",
       "      <td>January 20, 2017</td>\n",
       "      <td>1.0</td>\n",
       "      <td>2.2 and up</td>\n",
       "    </tr>\n",
       "    <tr>\n",
       "      <th>10839</th>\n",
       "      <td>The SCP Foundation DB fr nn5n</td>\n",
       "      <td>BOOKS_AND_REFERENCE</td>\n",
       "      <td>4.5</td>\n",
       "      <td>114</td>\n",
       "      <td>Varies with device</td>\n",
       "      <td>1,000+</td>\n",
       "      <td>Free</td>\n",
       "      <td>0</td>\n",
       "      <td>Mature 17+</td>\n",
       "      <td>Books &amp; Reference</td>\n",
       "      <td>January 19, 2015</td>\n",
       "      <td>Varies with device</td>\n",
       "      <td>Varies with device</td>\n",
       "    </tr>\n",
       "    <tr>\n",
       "      <th>10840</th>\n",
       "      <td>iHoroscope - 2018 Daily Horoscope &amp; Astrology</td>\n",
       "      <td>LIFESTYLE</td>\n",
       "      <td>4.5</td>\n",
       "      <td>398307</td>\n",
       "      <td>19M</td>\n",
       "      <td>10,000,000+</td>\n",
       "      <td>Free</td>\n",
       "      <td>0</td>\n",
       "      <td>Everyone</td>\n",
       "      <td>Lifestyle</td>\n",
       "      <td>July 25, 2018</td>\n",
       "      <td>Varies with device</td>\n",
       "      <td>Varies with device</td>\n",
       "    </tr>\n",
       "  </tbody>\n",
       "</table>\n",
       "<p>10841 rows × 13 columns</p>\n",
       "</div>"
      ],
      "text/plain": [
       "                                                     App             Category  \\\n",
       "0         Photo Editor & Candy Camera & Grid & ScrapBook       ART_AND_DESIGN   \n",
       "1                                    Coloring book moana       ART_AND_DESIGN   \n",
       "2      U Launcher Lite – FREE Live Cool Themes, Hide ...       ART_AND_DESIGN   \n",
       "3                                  Sketch - Draw & Paint       ART_AND_DESIGN   \n",
       "4                  Pixel Draw - Number Art Coloring Book       ART_AND_DESIGN   \n",
       "...                                                  ...                  ...   \n",
       "10836                                   Sya9a Maroc - FR               FAMILY   \n",
       "10837                   Fr. Mike Schmitz Audio Teachings               FAMILY   \n",
       "10838                             Parkinson Exercices FR              MEDICAL   \n",
       "10839                      The SCP Foundation DB fr nn5n  BOOKS_AND_REFERENCE   \n",
       "10840      iHoroscope - 2018 Daily Horoscope & Astrology            LIFESTYLE   \n",
       "\n",
       "       Rating Reviews                Size     Installs  Type Price  \\\n",
       "0         4.1     159                 19M      10,000+  Free     0   \n",
       "1         3.9     967                 14M     500,000+  Free     0   \n",
       "2         4.7   87510                8.7M   5,000,000+  Free     0   \n",
       "3         4.5  215644                 25M  50,000,000+  Free     0   \n",
       "4         4.3     967                2.8M     100,000+  Free     0   \n",
       "...       ...     ...                 ...          ...   ...   ...   \n",
       "10836     4.5      38                 53M       5,000+  Free     0   \n",
       "10837     5.0       4                3.6M         100+  Free     0   \n",
       "10838     NaN       3                9.5M       1,000+  Free     0   \n",
       "10839     4.5     114  Varies with device       1,000+  Free     0   \n",
       "10840     4.5  398307                 19M  10,000,000+  Free     0   \n",
       "\n",
       "      Content Rating                     Genres      Last Updated  \\\n",
       "0           Everyone               Art & Design   January 7, 2018   \n",
       "1           Everyone  Art & Design;Pretend Play  January 15, 2018   \n",
       "2           Everyone               Art & Design    August 1, 2018   \n",
       "3               Teen               Art & Design      June 8, 2018   \n",
       "4           Everyone    Art & Design;Creativity     June 20, 2018   \n",
       "...              ...                        ...               ...   \n",
       "10836       Everyone                  Education     July 25, 2017   \n",
       "10837       Everyone                  Education      July 6, 2018   \n",
       "10838       Everyone                    Medical  January 20, 2017   \n",
       "10839     Mature 17+          Books & Reference  January 19, 2015   \n",
       "10840       Everyone                  Lifestyle     July 25, 2018   \n",
       "\n",
       "              Current Ver         Android Ver  \n",
       "0                   1.0.0        4.0.3 and up  \n",
       "1                   2.0.0        4.0.3 and up  \n",
       "2                   1.2.4        4.0.3 and up  \n",
       "3      Varies with device          4.2 and up  \n",
       "4                     1.1          4.4 and up  \n",
       "...                   ...                 ...  \n",
       "10836                1.48          4.1 and up  \n",
       "10837                 1.0          4.1 and up  \n",
       "10838                 1.0          2.2 and up  \n",
       "10839  Varies with device  Varies with device  \n",
       "10840  Varies with device  Varies with device  \n",
       "\n",
       "[10841 rows x 13 columns]"
      ]
     },
     "execution_count": 3,
     "metadata": {},
     "output_type": "execute_result"
    }
   ],
   "source": [
    "dataapps"
   ]
  },
  {
   "cell_type": "markdown",
   "id": "009ad75c",
   "metadata": {},
   "source": [
    " <font color='blue' size='5'>Q2. Check the first few samples, shape, info of the data and try to familiarize yourself with different features.\n",
    "</font>"
   ]
  },
  {
   "cell_type": "code",
   "execution_count": 4,
   "id": "94b218f2",
   "metadata": {},
   "outputs": [
    {
     "data": {
      "text/plain": [
       "(10841, 13)"
      ]
     },
     "execution_count": 4,
     "metadata": {},
     "output_type": "execute_result"
    }
   ],
   "source": [
    "dataapps.shape"
   ]
  },
  {
   "cell_type": "code",
   "execution_count": 5,
   "id": "361102ac",
   "metadata": {},
   "outputs": [
    {
     "name": "stdout",
     "output_type": "stream",
     "text": [
      "<class 'pandas.core.frame.DataFrame'>\n",
      "RangeIndex: 10841 entries, 0 to 10840\n",
      "Data columns (total 13 columns):\n",
      " #   Column          Non-Null Count  Dtype  \n",
      "---  ------          --------------  -----  \n",
      " 0   App             10841 non-null  object \n",
      " 1   Category        10841 non-null  object \n",
      " 2   Rating          9367 non-null   float64\n",
      " 3   Reviews         10841 non-null  object \n",
      " 4   Size            10841 non-null  object \n",
      " 5   Installs        10841 non-null  object \n",
      " 6   Type            10840 non-null  object \n",
      " 7   Price           10841 non-null  object \n",
      " 8   Content Rating  10840 non-null  object \n",
      " 9   Genres          10841 non-null  object \n",
      " 10  Last Updated    10841 non-null  object \n",
      " 11  Current Ver     10833 non-null  object \n",
      " 12  Android Ver     10838 non-null  object \n",
      "dtypes: float64(1), object(12)\n",
      "memory usage: 1.1+ MB\n"
     ]
    }
   ],
   "source": [
    "dataapps.info()"
   ]
  },
  {
   "cell_type": "code",
   "execution_count": 6,
   "id": "f57c35e5",
   "metadata": {},
   "outputs": [
    {
     "data": {
      "text/html": [
       "<div>\n",
       "<style scoped>\n",
       "    .dataframe tbody tr th:only-of-type {\n",
       "        vertical-align: middle;\n",
       "    }\n",
       "\n",
       "    .dataframe tbody tr th {\n",
       "        vertical-align: top;\n",
       "    }\n",
       "\n",
       "    .dataframe thead th {\n",
       "        text-align: right;\n",
       "    }\n",
       "</style>\n",
       "<table border=\"1\" class=\"dataframe\">\n",
       "  <thead>\n",
       "    <tr style=\"text-align: right;\">\n",
       "      <th></th>\n",
       "      <th>App</th>\n",
       "      <th>Category</th>\n",
       "      <th>Rating</th>\n",
       "      <th>Reviews</th>\n",
       "      <th>Size</th>\n",
       "      <th>Installs</th>\n",
       "      <th>Type</th>\n",
       "      <th>Price</th>\n",
       "      <th>Content Rating</th>\n",
       "      <th>Genres</th>\n",
       "      <th>Last Updated</th>\n",
       "      <th>Current Ver</th>\n",
       "      <th>Android Ver</th>\n",
       "    </tr>\n",
       "  </thead>\n",
       "  <tbody>\n",
       "    <tr>\n",
       "      <th>0</th>\n",
       "      <td>Photo Editor &amp; Candy Camera &amp; Grid &amp; ScrapBook</td>\n",
       "      <td>ART_AND_DESIGN</td>\n",
       "      <td>4.1</td>\n",
       "      <td>159</td>\n",
       "      <td>19M</td>\n",
       "      <td>10,000+</td>\n",
       "      <td>Free</td>\n",
       "      <td>0</td>\n",
       "      <td>Everyone</td>\n",
       "      <td>Art &amp; Design</td>\n",
       "      <td>January 7, 2018</td>\n",
       "      <td>1.0.0</td>\n",
       "      <td>4.0.3 and up</td>\n",
       "    </tr>\n",
       "    <tr>\n",
       "      <th>1</th>\n",
       "      <td>Coloring book moana</td>\n",
       "      <td>ART_AND_DESIGN</td>\n",
       "      <td>3.9</td>\n",
       "      <td>967</td>\n",
       "      <td>14M</td>\n",
       "      <td>500,000+</td>\n",
       "      <td>Free</td>\n",
       "      <td>0</td>\n",
       "      <td>Everyone</td>\n",
       "      <td>Art &amp; Design;Pretend Play</td>\n",
       "      <td>January 15, 2018</td>\n",
       "      <td>2.0.0</td>\n",
       "      <td>4.0.3 and up</td>\n",
       "    </tr>\n",
       "    <tr>\n",
       "      <th>2</th>\n",
       "      <td>U Launcher Lite – FREE Live Cool Themes, Hide ...</td>\n",
       "      <td>ART_AND_DESIGN</td>\n",
       "      <td>4.7</td>\n",
       "      <td>87510</td>\n",
       "      <td>8.7M</td>\n",
       "      <td>5,000,000+</td>\n",
       "      <td>Free</td>\n",
       "      <td>0</td>\n",
       "      <td>Everyone</td>\n",
       "      <td>Art &amp; Design</td>\n",
       "      <td>August 1, 2018</td>\n",
       "      <td>1.2.4</td>\n",
       "      <td>4.0.3 and up</td>\n",
       "    </tr>\n",
       "    <tr>\n",
       "      <th>3</th>\n",
       "      <td>Sketch - Draw &amp; Paint</td>\n",
       "      <td>ART_AND_DESIGN</td>\n",
       "      <td>4.5</td>\n",
       "      <td>215644</td>\n",
       "      <td>25M</td>\n",
       "      <td>50,000,000+</td>\n",
       "      <td>Free</td>\n",
       "      <td>0</td>\n",
       "      <td>Teen</td>\n",
       "      <td>Art &amp; Design</td>\n",
       "      <td>June 8, 2018</td>\n",
       "      <td>Varies with device</td>\n",
       "      <td>4.2 and up</td>\n",
       "    </tr>\n",
       "    <tr>\n",
       "      <th>4</th>\n",
       "      <td>Pixel Draw - Number Art Coloring Book</td>\n",
       "      <td>ART_AND_DESIGN</td>\n",
       "      <td>4.3</td>\n",
       "      <td>967</td>\n",
       "      <td>2.8M</td>\n",
       "      <td>100,000+</td>\n",
       "      <td>Free</td>\n",
       "      <td>0</td>\n",
       "      <td>Everyone</td>\n",
       "      <td>Art &amp; Design;Creativity</td>\n",
       "      <td>June 20, 2018</td>\n",
       "      <td>1.1</td>\n",
       "      <td>4.4 and up</td>\n",
       "    </tr>\n",
       "  </tbody>\n",
       "</table>\n",
       "</div>"
      ],
      "text/plain": [
       "                                                 App        Category  Rating  \\\n",
       "0     Photo Editor & Candy Camera & Grid & ScrapBook  ART_AND_DESIGN     4.1   \n",
       "1                                Coloring book moana  ART_AND_DESIGN     3.9   \n",
       "2  U Launcher Lite – FREE Live Cool Themes, Hide ...  ART_AND_DESIGN     4.7   \n",
       "3                              Sketch - Draw & Paint  ART_AND_DESIGN     4.5   \n",
       "4              Pixel Draw - Number Art Coloring Book  ART_AND_DESIGN     4.3   \n",
       "\n",
       "  Reviews  Size     Installs  Type Price Content Rating  \\\n",
       "0     159   19M      10,000+  Free     0       Everyone   \n",
       "1     967   14M     500,000+  Free     0       Everyone   \n",
       "2   87510  8.7M   5,000,000+  Free     0       Everyone   \n",
       "3  215644   25M  50,000,000+  Free     0           Teen   \n",
       "4     967  2.8M     100,000+  Free     0       Everyone   \n",
       "\n",
       "                      Genres      Last Updated         Current Ver  \\\n",
       "0               Art & Design   January 7, 2018               1.0.0   \n",
       "1  Art & Design;Pretend Play  January 15, 2018               2.0.0   \n",
       "2               Art & Design    August 1, 2018               1.2.4   \n",
       "3               Art & Design      June 8, 2018  Varies with device   \n",
       "4    Art & Design;Creativity     June 20, 2018                 1.1   \n",
       "\n",
       "    Android Ver  \n",
       "0  4.0.3 and up  \n",
       "1  4.0.3 and up  \n",
       "2  4.0.3 and up  \n",
       "3    4.2 and up  \n",
       "4    4.4 and up  "
      ]
     },
     "execution_count": 6,
     "metadata": {},
     "output_type": "execute_result"
    }
   ],
   "source": [
    "dataapps.head()"
   ]
  },
  {
   "cell_type": "code",
   "execution_count": 7,
   "id": "fa48e98c",
   "metadata": {},
   "outputs": [
    {
     "data": {
      "text/html": [
       "<div>\n",
       "<style scoped>\n",
       "    .dataframe tbody tr th:only-of-type {\n",
       "        vertical-align: middle;\n",
       "    }\n",
       "\n",
       "    .dataframe tbody tr th {\n",
       "        vertical-align: top;\n",
       "    }\n",
       "\n",
       "    .dataframe thead th {\n",
       "        text-align: right;\n",
       "    }\n",
       "</style>\n",
       "<table border=\"1\" class=\"dataframe\">\n",
       "  <thead>\n",
       "    <tr style=\"text-align: right;\">\n",
       "      <th></th>\n",
       "      <th>App</th>\n",
       "      <th>Category</th>\n",
       "      <th>Rating</th>\n",
       "      <th>Reviews</th>\n",
       "      <th>Size</th>\n",
       "      <th>Installs</th>\n",
       "      <th>Type</th>\n",
       "      <th>Price</th>\n",
       "      <th>Content Rating</th>\n",
       "      <th>Genres</th>\n",
       "      <th>Last Updated</th>\n",
       "      <th>Current Ver</th>\n",
       "      <th>Android Ver</th>\n",
       "    </tr>\n",
       "  </thead>\n",
       "  <tbody>\n",
       "    <tr>\n",
       "      <th>10836</th>\n",
       "      <td>Sya9a Maroc - FR</td>\n",
       "      <td>FAMILY</td>\n",
       "      <td>4.5</td>\n",
       "      <td>38</td>\n",
       "      <td>53M</td>\n",
       "      <td>5,000+</td>\n",
       "      <td>Free</td>\n",
       "      <td>0</td>\n",
       "      <td>Everyone</td>\n",
       "      <td>Education</td>\n",
       "      <td>July 25, 2017</td>\n",
       "      <td>1.48</td>\n",
       "      <td>4.1 and up</td>\n",
       "    </tr>\n",
       "    <tr>\n",
       "      <th>10837</th>\n",
       "      <td>Fr. Mike Schmitz Audio Teachings</td>\n",
       "      <td>FAMILY</td>\n",
       "      <td>5.0</td>\n",
       "      <td>4</td>\n",
       "      <td>3.6M</td>\n",
       "      <td>100+</td>\n",
       "      <td>Free</td>\n",
       "      <td>0</td>\n",
       "      <td>Everyone</td>\n",
       "      <td>Education</td>\n",
       "      <td>July 6, 2018</td>\n",
       "      <td>1.0</td>\n",
       "      <td>4.1 and up</td>\n",
       "    </tr>\n",
       "    <tr>\n",
       "      <th>10838</th>\n",
       "      <td>Parkinson Exercices FR</td>\n",
       "      <td>MEDICAL</td>\n",
       "      <td>NaN</td>\n",
       "      <td>3</td>\n",
       "      <td>9.5M</td>\n",
       "      <td>1,000+</td>\n",
       "      <td>Free</td>\n",
       "      <td>0</td>\n",
       "      <td>Everyone</td>\n",
       "      <td>Medical</td>\n",
       "      <td>January 20, 2017</td>\n",
       "      <td>1.0</td>\n",
       "      <td>2.2 and up</td>\n",
       "    </tr>\n",
       "    <tr>\n",
       "      <th>10839</th>\n",
       "      <td>The SCP Foundation DB fr nn5n</td>\n",
       "      <td>BOOKS_AND_REFERENCE</td>\n",
       "      <td>4.5</td>\n",
       "      <td>114</td>\n",
       "      <td>Varies with device</td>\n",
       "      <td>1,000+</td>\n",
       "      <td>Free</td>\n",
       "      <td>0</td>\n",
       "      <td>Mature 17+</td>\n",
       "      <td>Books &amp; Reference</td>\n",
       "      <td>January 19, 2015</td>\n",
       "      <td>Varies with device</td>\n",
       "      <td>Varies with device</td>\n",
       "    </tr>\n",
       "    <tr>\n",
       "      <th>10840</th>\n",
       "      <td>iHoroscope - 2018 Daily Horoscope &amp; Astrology</td>\n",
       "      <td>LIFESTYLE</td>\n",
       "      <td>4.5</td>\n",
       "      <td>398307</td>\n",
       "      <td>19M</td>\n",
       "      <td>10,000,000+</td>\n",
       "      <td>Free</td>\n",
       "      <td>0</td>\n",
       "      <td>Everyone</td>\n",
       "      <td>Lifestyle</td>\n",
       "      <td>July 25, 2018</td>\n",
       "      <td>Varies with device</td>\n",
       "      <td>Varies with device</td>\n",
       "    </tr>\n",
       "  </tbody>\n",
       "</table>\n",
       "</div>"
      ],
      "text/plain": [
       "                                                 App             Category  \\\n",
       "10836                               Sya9a Maroc - FR               FAMILY   \n",
       "10837               Fr. Mike Schmitz Audio Teachings               FAMILY   \n",
       "10838                         Parkinson Exercices FR              MEDICAL   \n",
       "10839                  The SCP Foundation DB fr nn5n  BOOKS_AND_REFERENCE   \n",
       "10840  iHoroscope - 2018 Daily Horoscope & Astrology            LIFESTYLE   \n",
       "\n",
       "       Rating Reviews                Size     Installs  Type Price  \\\n",
       "10836     4.5      38                 53M       5,000+  Free     0   \n",
       "10837     5.0       4                3.6M         100+  Free     0   \n",
       "10838     NaN       3                9.5M       1,000+  Free     0   \n",
       "10839     4.5     114  Varies with device       1,000+  Free     0   \n",
       "10840     4.5  398307                 19M  10,000,000+  Free     0   \n",
       "\n",
       "      Content Rating             Genres      Last Updated         Current Ver  \\\n",
       "10836       Everyone          Education     July 25, 2017                1.48   \n",
       "10837       Everyone          Education      July 6, 2018                 1.0   \n",
       "10838       Everyone            Medical  January 20, 2017                 1.0   \n",
       "10839     Mature 17+  Books & Reference  January 19, 2015  Varies with device   \n",
       "10840       Everyone          Lifestyle     July 25, 2018  Varies with device   \n",
       "\n",
       "              Android Ver  \n",
       "10836          4.1 and up  \n",
       "10837          4.1 and up  \n",
       "10838          2.2 and up  \n",
       "10839  Varies with device  \n",
       "10840  Varies with device  "
      ]
     },
     "execution_count": 7,
     "metadata": {},
     "output_type": "execute_result"
    }
   ],
   "source": [
    "dataapps.tail()"
   ]
  },
  {
   "cell_type": "markdown",
   "id": "fe194d1f",
   "metadata": {},
   "source": [
    "Observations : We could see the following dataset contains 13 columns and 10841 rows\n",
    "    as per info we could see rating column as more null values & we could see many columns are of object datatype"
   ]
  },
  {
   "cell_type": "markdown",
   "id": "8a16be44",
   "metadata": {},
   "source": [
    " <font color='blue' size='5'> Q3. Check summary statistics of the dataset. List out the columns that need to be worked upon for model building."
   ]
  },
  {
   "cell_type": "code",
   "execution_count": 8,
   "id": "757801dc",
   "metadata": {},
   "outputs": [
    {
     "data": {
      "text/html": [
       "<div>\n",
       "<style scoped>\n",
       "    .dataframe tbody tr th:only-of-type {\n",
       "        vertical-align: middle;\n",
       "    }\n",
       "\n",
       "    .dataframe tbody tr th {\n",
       "        vertical-align: top;\n",
       "    }\n",
       "\n",
       "    .dataframe thead th {\n",
       "        text-align: right;\n",
       "    }\n",
       "</style>\n",
       "<table border=\"1\" class=\"dataframe\">\n",
       "  <thead>\n",
       "    <tr style=\"text-align: right;\">\n",
       "      <th></th>\n",
       "      <th>count</th>\n",
       "      <th>unique</th>\n",
       "      <th>top</th>\n",
       "      <th>freq</th>\n",
       "      <th>mean</th>\n",
       "      <th>std</th>\n",
       "      <th>min</th>\n",
       "      <th>25%</th>\n",
       "      <th>50%</th>\n",
       "      <th>75%</th>\n",
       "      <th>max</th>\n",
       "    </tr>\n",
       "  </thead>\n",
       "  <tbody>\n",
       "    <tr>\n",
       "      <th>App</th>\n",
       "      <td>10841</td>\n",
       "      <td>9660</td>\n",
       "      <td>ROBLOX</td>\n",
       "      <td>9</td>\n",
       "      <td>NaN</td>\n",
       "      <td>NaN</td>\n",
       "      <td>NaN</td>\n",
       "      <td>NaN</td>\n",
       "      <td>NaN</td>\n",
       "      <td>NaN</td>\n",
       "      <td>NaN</td>\n",
       "    </tr>\n",
       "    <tr>\n",
       "      <th>Category</th>\n",
       "      <td>10841</td>\n",
       "      <td>34</td>\n",
       "      <td>FAMILY</td>\n",
       "      <td>1972</td>\n",
       "      <td>NaN</td>\n",
       "      <td>NaN</td>\n",
       "      <td>NaN</td>\n",
       "      <td>NaN</td>\n",
       "      <td>NaN</td>\n",
       "      <td>NaN</td>\n",
       "      <td>NaN</td>\n",
       "    </tr>\n",
       "    <tr>\n",
       "      <th>Rating</th>\n",
       "      <td>9367.0</td>\n",
       "      <td>NaN</td>\n",
       "      <td>NaN</td>\n",
       "      <td>NaN</td>\n",
       "      <td>4.193338</td>\n",
       "      <td>0.537431</td>\n",
       "      <td>1.0</td>\n",
       "      <td>4.0</td>\n",
       "      <td>4.3</td>\n",
       "      <td>4.5</td>\n",
       "      <td>19.0</td>\n",
       "    </tr>\n",
       "    <tr>\n",
       "      <th>Reviews</th>\n",
       "      <td>10841</td>\n",
       "      <td>6002</td>\n",
       "      <td>0</td>\n",
       "      <td>596</td>\n",
       "      <td>NaN</td>\n",
       "      <td>NaN</td>\n",
       "      <td>NaN</td>\n",
       "      <td>NaN</td>\n",
       "      <td>NaN</td>\n",
       "      <td>NaN</td>\n",
       "      <td>NaN</td>\n",
       "    </tr>\n",
       "    <tr>\n",
       "      <th>Size</th>\n",
       "      <td>10841</td>\n",
       "      <td>462</td>\n",
       "      <td>Varies with device</td>\n",
       "      <td>1695</td>\n",
       "      <td>NaN</td>\n",
       "      <td>NaN</td>\n",
       "      <td>NaN</td>\n",
       "      <td>NaN</td>\n",
       "      <td>NaN</td>\n",
       "      <td>NaN</td>\n",
       "      <td>NaN</td>\n",
       "    </tr>\n",
       "    <tr>\n",
       "      <th>Installs</th>\n",
       "      <td>10841</td>\n",
       "      <td>22</td>\n",
       "      <td>1,000,000+</td>\n",
       "      <td>1579</td>\n",
       "      <td>NaN</td>\n",
       "      <td>NaN</td>\n",
       "      <td>NaN</td>\n",
       "      <td>NaN</td>\n",
       "      <td>NaN</td>\n",
       "      <td>NaN</td>\n",
       "      <td>NaN</td>\n",
       "    </tr>\n",
       "    <tr>\n",
       "      <th>Type</th>\n",
       "      <td>10840</td>\n",
       "      <td>3</td>\n",
       "      <td>Free</td>\n",
       "      <td>10039</td>\n",
       "      <td>NaN</td>\n",
       "      <td>NaN</td>\n",
       "      <td>NaN</td>\n",
       "      <td>NaN</td>\n",
       "      <td>NaN</td>\n",
       "      <td>NaN</td>\n",
       "      <td>NaN</td>\n",
       "    </tr>\n",
       "    <tr>\n",
       "      <th>Price</th>\n",
       "      <td>10841</td>\n",
       "      <td>93</td>\n",
       "      <td>0</td>\n",
       "      <td>10040</td>\n",
       "      <td>NaN</td>\n",
       "      <td>NaN</td>\n",
       "      <td>NaN</td>\n",
       "      <td>NaN</td>\n",
       "      <td>NaN</td>\n",
       "      <td>NaN</td>\n",
       "      <td>NaN</td>\n",
       "    </tr>\n",
       "    <tr>\n",
       "      <th>Content Rating</th>\n",
       "      <td>10840</td>\n",
       "      <td>6</td>\n",
       "      <td>Everyone</td>\n",
       "      <td>8714</td>\n",
       "      <td>NaN</td>\n",
       "      <td>NaN</td>\n",
       "      <td>NaN</td>\n",
       "      <td>NaN</td>\n",
       "      <td>NaN</td>\n",
       "      <td>NaN</td>\n",
       "      <td>NaN</td>\n",
       "    </tr>\n",
       "    <tr>\n",
       "      <th>Genres</th>\n",
       "      <td>10841</td>\n",
       "      <td>120</td>\n",
       "      <td>Tools</td>\n",
       "      <td>842</td>\n",
       "      <td>NaN</td>\n",
       "      <td>NaN</td>\n",
       "      <td>NaN</td>\n",
       "      <td>NaN</td>\n",
       "      <td>NaN</td>\n",
       "      <td>NaN</td>\n",
       "      <td>NaN</td>\n",
       "    </tr>\n",
       "    <tr>\n",
       "      <th>Last Updated</th>\n",
       "      <td>10841</td>\n",
       "      <td>1378</td>\n",
       "      <td>August 3, 2018</td>\n",
       "      <td>326</td>\n",
       "      <td>NaN</td>\n",
       "      <td>NaN</td>\n",
       "      <td>NaN</td>\n",
       "      <td>NaN</td>\n",
       "      <td>NaN</td>\n",
       "      <td>NaN</td>\n",
       "      <td>NaN</td>\n",
       "    </tr>\n",
       "    <tr>\n",
       "      <th>Current Ver</th>\n",
       "      <td>10833</td>\n",
       "      <td>2832</td>\n",
       "      <td>Varies with device</td>\n",
       "      <td>1459</td>\n",
       "      <td>NaN</td>\n",
       "      <td>NaN</td>\n",
       "      <td>NaN</td>\n",
       "      <td>NaN</td>\n",
       "      <td>NaN</td>\n",
       "      <td>NaN</td>\n",
       "      <td>NaN</td>\n",
       "    </tr>\n",
       "    <tr>\n",
       "      <th>Android Ver</th>\n",
       "      <td>10838</td>\n",
       "      <td>33</td>\n",
       "      <td>4.1 and up</td>\n",
       "      <td>2451</td>\n",
       "      <td>NaN</td>\n",
       "      <td>NaN</td>\n",
       "      <td>NaN</td>\n",
       "      <td>NaN</td>\n",
       "      <td>NaN</td>\n",
       "      <td>NaN</td>\n",
       "      <td>NaN</td>\n",
       "    </tr>\n",
       "  </tbody>\n",
       "</table>\n",
       "</div>"
      ],
      "text/plain": [
       "                 count unique                 top   freq      mean       std  \\\n",
       "App              10841   9660              ROBLOX      9       NaN       NaN   \n",
       "Category         10841     34              FAMILY   1972       NaN       NaN   \n",
       "Rating          9367.0    NaN                 NaN    NaN  4.193338  0.537431   \n",
       "Reviews          10841   6002                   0    596       NaN       NaN   \n",
       "Size             10841    462  Varies with device   1695       NaN       NaN   \n",
       "Installs         10841     22          1,000,000+   1579       NaN       NaN   \n",
       "Type             10840      3                Free  10039       NaN       NaN   \n",
       "Price            10841     93                   0  10040       NaN       NaN   \n",
       "Content Rating   10840      6            Everyone   8714       NaN       NaN   \n",
       "Genres           10841    120               Tools    842       NaN       NaN   \n",
       "Last Updated     10841   1378      August 3, 2018    326       NaN       NaN   \n",
       "Current Ver      10833   2832  Varies with device   1459       NaN       NaN   \n",
       "Android Ver      10838     33          4.1 and up   2451       NaN       NaN   \n",
       "\n",
       "                min  25%  50%  75%   max  \n",
       "App             NaN  NaN  NaN  NaN   NaN  \n",
       "Category        NaN  NaN  NaN  NaN   NaN  \n",
       "Rating          1.0  4.0  4.3  4.5  19.0  \n",
       "Reviews         NaN  NaN  NaN  NaN   NaN  \n",
       "Size            NaN  NaN  NaN  NaN   NaN  \n",
       "Installs        NaN  NaN  NaN  NaN   NaN  \n",
       "Type            NaN  NaN  NaN  NaN   NaN  \n",
       "Price           NaN  NaN  NaN  NaN   NaN  \n",
       "Content Rating  NaN  NaN  NaN  NaN   NaN  \n",
       "Genres          NaN  NaN  NaN  NaN   NaN  \n",
       "Last Updated    NaN  NaN  NaN  NaN   NaN  \n",
       "Current Ver     NaN  NaN  NaN  NaN   NaN  \n",
       "Android Ver     NaN  NaN  NaN  NaN   NaN  "
      ]
     },
     "execution_count": 8,
     "metadata": {},
     "output_type": "execute_result"
    }
   ],
   "source": [
    "statsumry = dataapps.describe(include='all').T\n",
    "statsumry"
   ]
  },
  {
   "cell_type": "markdown",
   "id": "531480de",
   "metadata": {},
   "source": [
    "The List out the columns that need to be worked upon for model building are Category,Rating,Reviews, Size,Installs, Price"
   ]
  },
  {
   "cell_type": "markdown",
   "id": "0f513f17",
   "metadata": {},
   "source": [
    "<font color='blue' size='5'> Q4. Check if there are any duplicate records in the dataset? if any drop them."
   ]
  },
  {
   "cell_type": "code",
   "execution_count": 10,
   "id": "2407e037",
   "metadata": {},
   "outputs": [
    {
     "data": {
      "text/plain": [
       "0        False\n",
       "1        False\n",
       "2        False\n",
       "3        False\n",
       "4        False\n",
       "         ...  \n",
       "10836    False\n",
       "10837    False\n",
       "10838    False\n",
       "10839    False\n",
       "10840    False\n",
       "Length: 10841, dtype: bool"
      ]
     },
     "execution_count": 10,
     "metadata": {},
     "output_type": "execute_result"
    }
   ],
   "source": [
    "dataapps.duplicated()"
   ]
  },
  {
   "cell_type": "code",
   "execution_count": 9,
   "id": "6425e9e9",
   "metadata": {},
   "outputs": [
    {
     "name": "stdout",
     "output_type": "stream",
     "text": [
      "The sum of All duplicate values in dataset is : 483\n"
     ]
    }
   ],
   "source": [
    "print('The sum of All duplicate values in dataset is :',dataapps.duplicated().sum())"
   ]
  },
  {
   "cell_type": "code",
   "execution_count": 11,
   "id": "83b96bc7",
   "metadata": {},
   "outputs": [],
   "source": [
    "ab = np.array(dataapps.shape)"
   ]
  },
  {
   "cell_type": "code",
   "execution_count": 12,
   "id": "6e3da986",
   "metadata": {},
   "outputs": [
    {
     "name": "stdout",
     "output_type": "stream",
     "text": [
      "The following dataset contains  10841 Rows and 13 Columns as of now before dropping\n"
     ]
    }
   ],
   "source": [
    "print('The following dataset contains ',ab[0] ,'Rows and',ab[1], 'Columns as of now before dropping')"
   ]
  },
  {
   "cell_type": "code",
   "execution_count": 13,
   "id": "77401ab0",
   "metadata": {},
   "outputs": [],
   "source": [
    "#dropping duplicate values from dataset\n",
    "dataapps.drop_duplicates(keep='first',inplace=True)"
   ]
  },
  {
   "cell_type": "code",
   "execution_count": 14,
   "id": "09d24477",
   "metadata": {},
   "outputs": [],
   "source": [
    "ab1 = np.array(dataapps.shape)"
   ]
  },
  {
   "cell_type": "code",
   "execution_count": 15,
   "id": "8c2b4d21",
   "metadata": {},
   "outputs": [
    {
     "name": "stdout",
     "output_type": "stream",
     "text": [
      "The following dataset contains  10358 Rows and 13 Columns as of now after dropping\n"
     ]
    }
   ],
   "source": [
    "print('The following dataset contains ',ab1[0] ,'Rows and',ab1[1], 'Columns as of now after dropping')"
   ]
  },
  {
   "cell_type": "code",
   "execution_count": 16,
   "id": "ead615ea",
   "metadata": {},
   "outputs": [
    {
     "data": {
      "text/plain": [
       "0"
      ]
     },
     "execution_count": 16,
     "metadata": {},
     "output_type": "execute_result"
    }
   ],
   "source": [
    "#Post verfication of duplicated values\n",
    "dataapps.duplicated().sum()\n",
    "# as per o/p no duplicated values and all are dropped "
   ]
  },
  {
   "cell_type": "markdown",
   "id": "1eac3f31",
   "metadata": {},
   "source": [
    "<font color='blue' size='5'> Q5. Check the unique categories of the column 'Category', Is there any invalid category? If yes, drop them."
   ]
  },
  {
   "cell_type": "code",
   "execution_count": 17,
   "id": "ca4ece8d",
   "metadata": {},
   "outputs": [
    {
     "data": {
      "text/plain": [
       "array(['ART_AND_DESIGN', 'AUTO_AND_VEHICLES', 'BEAUTY',\n",
       "       'BOOKS_AND_REFERENCE', 'BUSINESS', 'COMICS', 'COMMUNICATION',\n",
       "       'DATING', 'EDUCATION', 'ENTERTAINMENT', 'EVENTS', 'FINANCE',\n",
       "       'FOOD_AND_DRINK', 'HEALTH_AND_FITNESS', 'HOUSE_AND_HOME',\n",
       "       'LIBRARIES_AND_DEMO', 'LIFESTYLE', 'GAME', 'FAMILY', 'MEDICAL',\n",
       "       'SOCIAL', 'SHOPPING', 'PHOTOGRAPHY', 'SPORTS', 'TRAVEL_AND_LOCAL',\n",
       "       'TOOLS', 'PERSONALIZATION', 'PRODUCTIVITY', 'PARENTING', 'WEATHER',\n",
       "       'VIDEO_PLAYERS', 'NEWS_AND_MAGAZINES', 'MAPS_AND_NAVIGATION',\n",
       "       '1.9'], dtype=object)"
      ]
     },
     "execution_count": 17,
     "metadata": {},
     "output_type": "execute_result"
    }
   ],
   "source": [
    "unique_categories = dataapps['Category'].unique()\n",
    "unique_categories"
   ]
  },
  {
   "cell_type": "code",
   "execution_count": 18,
   "id": "ea336f9f",
   "metadata": {},
   "outputs": [
    {
     "data": {
      "text/plain": [
       "FAMILY                 1943\n",
       "GAME                   1121\n",
       "TOOLS                   843\n",
       "BUSINESS                427\n",
       "MEDICAL                 408\n",
       "PRODUCTIVITY            407\n",
       "PERSONALIZATION         388\n",
       "LIFESTYLE               373\n",
       "COMMUNICATION           366\n",
       "FINANCE                 360\n",
       "SPORTS                  351\n",
       "PHOTOGRAPHY             322\n",
       "HEALTH_AND_FITNESS      306\n",
       "SOCIAL                  280\n",
       "NEWS_AND_MAGAZINES      264\n",
       "TRAVEL_AND_LOCAL        237\n",
       "BOOKS_AND_REFERENCE     230\n",
       "SHOPPING                224\n",
       "DATING                  196\n",
       "VIDEO_PLAYERS           175\n",
       "MAPS_AND_NAVIGATION     137\n",
       "EDUCATION               130\n",
       "FOOD_AND_DRINK          124\n",
       "ENTERTAINMENT           111\n",
       "AUTO_AND_VEHICLES        85\n",
       "LIBRARIES_AND_DEMO       85\n",
       "WEATHER                  82\n",
       "HOUSE_AND_HOME           80\n",
       "ART_AND_DESIGN           65\n",
       "EVENTS                   64\n",
       "PARENTING                60\n",
       "COMICS                   60\n",
       "BEAUTY                   53\n",
       "1.9                       1\n",
       "Name: Category, dtype: int64"
      ]
     },
     "execution_count": 18,
     "metadata": {},
     "output_type": "execute_result"
    }
   ],
   "source": [
    "dataapps['Category'].value_counts()"
   ]
  },
  {
   "cell_type": "code",
   "execution_count": 19,
   "id": "d88cc03f",
   "metadata": {},
   "outputs": [
    {
     "data": {
      "text/html": [
       "<div>\n",
       "<style scoped>\n",
       "    .dataframe tbody tr th:only-of-type {\n",
       "        vertical-align: middle;\n",
       "    }\n",
       "\n",
       "    .dataframe tbody tr th {\n",
       "        vertical-align: top;\n",
       "    }\n",
       "\n",
       "    .dataframe thead th {\n",
       "        text-align: right;\n",
       "    }\n",
       "</style>\n",
       "<table border=\"1\" class=\"dataframe\">\n",
       "  <thead>\n",
       "    <tr style=\"text-align: right;\">\n",
       "      <th></th>\n",
       "      <th>App</th>\n",
       "      <th>Category</th>\n",
       "      <th>Rating</th>\n",
       "      <th>Reviews</th>\n",
       "      <th>Size</th>\n",
       "      <th>Installs</th>\n",
       "      <th>Type</th>\n",
       "      <th>Price</th>\n",
       "      <th>Content Rating</th>\n",
       "      <th>Genres</th>\n",
       "      <th>Last Updated</th>\n",
       "      <th>Current Ver</th>\n",
       "      <th>Android Ver</th>\n",
       "    </tr>\n",
       "  </thead>\n",
       "  <tbody>\n",
       "    <tr>\n",
       "      <th>10472</th>\n",
       "      <td>Life Made WI-Fi Touchscreen Photo Frame</td>\n",
       "      <td>1.9</td>\n",
       "      <td>19.0</td>\n",
       "      <td>3.0M</td>\n",
       "      <td>1,000+</td>\n",
       "      <td>Free</td>\n",
       "      <td>0</td>\n",
       "      <td>Everyone</td>\n",
       "      <td>NaN</td>\n",
       "      <td>February 11, 2018</td>\n",
       "      <td>1.0.19</td>\n",
       "      <td>4.0 and up</td>\n",
       "      <td>NaN</td>\n",
       "    </tr>\n",
       "  </tbody>\n",
       "</table>\n",
       "</div>"
      ],
      "text/plain": [
       "                                           App Category  Rating Reviews  \\\n",
       "10472  Life Made WI-Fi Touchscreen Photo Frame      1.9    19.0    3.0M   \n",
       "\n",
       "         Size Installs Type     Price Content Rating             Genres  \\\n",
       "10472  1,000+     Free    0  Everyone            NaN  February 11, 2018   \n",
       "\n",
       "      Last Updated Current Ver Android Ver  \n",
       "10472       1.0.19  4.0 and up         NaN  "
      ]
     },
     "execution_count": 19,
     "metadata": {},
     "output_type": "execute_result"
    }
   ],
   "source": [
    "#from this we can see one row 1.9 is not proper hence dropping it \n",
    "invalid_rows = dataapps[dataapps['Category'].str.contains('1.9')] #dataapps[dataapps['Category'] == '1.9']\n",
    "invalid_rows"
   ]
  },
  {
   "cell_type": "code",
   "execution_count": 20,
   "id": "c0e9ea59",
   "metadata": {},
   "outputs": [],
   "source": [
    "# Droping rows with '1.9' value in 'Category' column\n",
    "dataapps = dataapps[~dataapps['Category'].str.contains('1.9')]"
   ]
  },
  {
   "cell_type": "code",
   "execution_count": 21,
   "id": "2edaf437",
   "metadata": {},
   "outputs": [
    {
     "data": {
      "text/html": [
       "<div>\n",
       "<style scoped>\n",
       "    .dataframe tbody tr th:only-of-type {\n",
       "        vertical-align: middle;\n",
       "    }\n",
       "\n",
       "    .dataframe tbody tr th {\n",
       "        vertical-align: top;\n",
       "    }\n",
       "\n",
       "    .dataframe thead th {\n",
       "        text-align: right;\n",
       "    }\n",
       "</style>\n",
       "<table border=\"1\" class=\"dataframe\">\n",
       "  <thead>\n",
       "    <tr style=\"text-align: right;\">\n",
       "      <th></th>\n",
       "      <th>App</th>\n",
       "      <th>Category</th>\n",
       "      <th>Rating</th>\n",
       "      <th>Reviews</th>\n",
       "      <th>Size</th>\n",
       "      <th>Installs</th>\n",
       "      <th>Type</th>\n",
       "      <th>Price</th>\n",
       "      <th>Content Rating</th>\n",
       "      <th>Genres</th>\n",
       "      <th>Last Updated</th>\n",
       "      <th>Current Ver</th>\n",
       "      <th>Android Ver</th>\n",
       "    </tr>\n",
       "  </thead>\n",
       "  <tbody>\n",
       "  </tbody>\n",
       "</table>\n",
       "</div>"
      ],
      "text/plain": [
       "Empty DataFrame\n",
       "Columns: [App, Category, Rating, Reviews, Size, Installs, Type, Price, Content Rating, Genres, Last Updated, Current Ver, Android Ver]\n",
       "Index: []"
      ]
     },
     "execution_count": 21,
     "metadata": {},
     "output_type": "execute_result"
    }
   ],
   "source": [
    "#Post Verfication :  We can see the row with 1.9 value is dropped \n",
    "dataapps[dataapps['Category'].str.contains('1.9')] #dataapps[dataapps['Category'] == '1.9']"
   ]
  },
  {
   "cell_type": "code",
   "execution_count": 22,
   "id": "bc4c9fab",
   "metadata": {},
   "outputs": [
    {
     "data": {
      "text/plain": [
       "(10357, 13)"
      ]
     },
     "execution_count": 22,
     "metadata": {},
     "output_type": "execute_result"
    }
   ],
   "source": [
    "#before we are having 10358 Rows and 13 Columns \n",
    "dataapps.shape\n",
    "#we can see after dropping 1.9 column the row count is reduced to 1 "
   ]
  },
  {
   "cell_type": "markdown",
   "id": "8b95da5e",
   "metadata": {},
   "source": [
    "<font color='blue' size='5'> Q6.Check if there are missing values present in the column Rating, If any? drop them and and create a new column as 'Rating_category' by converting ratings to high and low categories(>3.5 is high rest low)"
   ]
  },
  {
   "cell_type": "code",
   "execution_count": 23,
   "id": "8d3c677b",
   "metadata": {},
   "outputs": [
    {
     "data": {
      "text/plain": [
       "1465"
      ]
     },
     "execution_count": 23,
     "metadata": {},
     "output_type": "execute_result"
    }
   ],
   "source": [
    "# Checking for missing values in the 'Rating' column & getting total value  \n",
    "dataapps['Rating'].isnull().sum()"
   ]
  },
  {
   "cell_type": "code",
   "execution_count": 24,
   "id": "60fb6575",
   "metadata": {},
   "outputs": [
    {
     "data": {
      "text/html": [
       "<div>\n",
       "<style scoped>\n",
       "    .dataframe tbody tr th:only-of-type {\n",
       "        vertical-align: middle;\n",
       "    }\n",
       "\n",
       "    .dataframe tbody tr th {\n",
       "        vertical-align: top;\n",
       "    }\n",
       "\n",
       "    .dataframe thead th {\n",
       "        text-align: right;\n",
       "    }\n",
       "</style>\n",
       "<table border=\"1\" class=\"dataframe\">\n",
       "  <thead>\n",
       "    <tr style=\"text-align: right;\">\n",
       "      <th></th>\n",
       "      <th>App</th>\n",
       "      <th>Category</th>\n",
       "      <th>Rating</th>\n",
       "      <th>Reviews</th>\n",
       "      <th>Size</th>\n",
       "      <th>Installs</th>\n",
       "      <th>Type</th>\n",
       "      <th>Price</th>\n",
       "      <th>Content Rating</th>\n",
       "      <th>Genres</th>\n",
       "      <th>Last Updated</th>\n",
       "      <th>Current Ver</th>\n",
       "      <th>Android Ver</th>\n",
       "    </tr>\n",
       "  </thead>\n",
       "  <tbody>\n",
       "    <tr>\n",
       "      <th>23</th>\n",
       "      <td>Mcqueen Coloring pages</td>\n",
       "      <td>ART_AND_DESIGN</td>\n",
       "      <td>NaN</td>\n",
       "      <td>61</td>\n",
       "      <td>7.0M</td>\n",
       "      <td>100,000+</td>\n",
       "      <td>Free</td>\n",
       "      <td>0</td>\n",
       "      <td>Everyone</td>\n",
       "      <td>Art &amp; Design;Action &amp; Adventure</td>\n",
       "      <td>March 7, 2018</td>\n",
       "      <td>1.0.0</td>\n",
       "      <td>4.1 and up</td>\n",
       "    </tr>\n",
       "    <tr>\n",
       "      <th>113</th>\n",
       "      <td>Wrinkles and rejuvenation</td>\n",
       "      <td>BEAUTY</td>\n",
       "      <td>NaN</td>\n",
       "      <td>182</td>\n",
       "      <td>5.7M</td>\n",
       "      <td>100,000+</td>\n",
       "      <td>Free</td>\n",
       "      <td>0</td>\n",
       "      <td>Everyone 10+</td>\n",
       "      <td>Beauty</td>\n",
       "      <td>September 20, 2017</td>\n",
       "      <td>8.0</td>\n",
       "      <td>3.0 and up</td>\n",
       "    </tr>\n",
       "    <tr>\n",
       "      <th>123</th>\n",
       "      <td>Manicure - nail design</td>\n",
       "      <td>BEAUTY</td>\n",
       "      <td>NaN</td>\n",
       "      <td>119</td>\n",
       "      <td>3.7M</td>\n",
       "      <td>50,000+</td>\n",
       "      <td>Free</td>\n",
       "      <td>0</td>\n",
       "      <td>Everyone</td>\n",
       "      <td>Beauty</td>\n",
       "      <td>July 23, 2018</td>\n",
       "      <td>1.3</td>\n",
       "      <td>4.1 and up</td>\n",
       "    </tr>\n",
       "    <tr>\n",
       "      <th>126</th>\n",
       "      <td>Skin Care and Natural Beauty</td>\n",
       "      <td>BEAUTY</td>\n",
       "      <td>NaN</td>\n",
       "      <td>654</td>\n",
       "      <td>7.4M</td>\n",
       "      <td>100,000+</td>\n",
       "      <td>Free</td>\n",
       "      <td>0</td>\n",
       "      <td>Teen</td>\n",
       "      <td>Beauty</td>\n",
       "      <td>July 17, 2018</td>\n",
       "      <td>1.15</td>\n",
       "      <td>4.1 and up</td>\n",
       "    </tr>\n",
       "    <tr>\n",
       "      <th>129</th>\n",
       "      <td>Secrets of beauty, youth and health</td>\n",
       "      <td>BEAUTY</td>\n",
       "      <td>NaN</td>\n",
       "      <td>77</td>\n",
       "      <td>2.9M</td>\n",
       "      <td>10,000+</td>\n",
       "      <td>Free</td>\n",
       "      <td>0</td>\n",
       "      <td>Mature 17+</td>\n",
       "      <td>Beauty</td>\n",
       "      <td>August 8, 2017</td>\n",
       "      <td>2.0</td>\n",
       "      <td>2.3 and up</td>\n",
       "    </tr>\n",
       "    <tr>\n",
       "      <th>...</th>\n",
       "      <td>...</td>\n",
       "      <td>...</td>\n",
       "      <td>...</td>\n",
       "      <td>...</td>\n",
       "      <td>...</td>\n",
       "      <td>...</td>\n",
       "      <td>...</td>\n",
       "      <td>...</td>\n",
       "      <td>...</td>\n",
       "      <td>...</td>\n",
       "      <td>...</td>\n",
       "      <td>...</td>\n",
       "      <td>...</td>\n",
       "    </tr>\n",
       "    <tr>\n",
       "      <th>10824</th>\n",
       "      <td>Cardio-FR</td>\n",
       "      <td>MEDICAL</td>\n",
       "      <td>NaN</td>\n",
       "      <td>67</td>\n",
       "      <td>82M</td>\n",
       "      <td>10,000+</td>\n",
       "      <td>Free</td>\n",
       "      <td>0</td>\n",
       "      <td>Everyone</td>\n",
       "      <td>Medical</td>\n",
       "      <td>July 31, 2018</td>\n",
       "      <td>2.2.2</td>\n",
       "      <td>4.4 and up</td>\n",
       "    </tr>\n",
       "    <tr>\n",
       "      <th>10825</th>\n",
       "      <td>Naruto &amp; Boruto FR</td>\n",
       "      <td>SOCIAL</td>\n",
       "      <td>NaN</td>\n",
       "      <td>7</td>\n",
       "      <td>7.7M</td>\n",
       "      <td>100+</td>\n",
       "      <td>Free</td>\n",
       "      <td>0</td>\n",
       "      <td>Teen</td>\n",
       "      <td>Social</td>\n",
       "      <td>February 2, 2018</td>\n",
       "      <td>1.0</td>\n",
       "      <td>4.0 and up</td>\n",
       "    </tr>\n",
       "    <tr>\n",
       "      <th>10831</th>\n",
       "      <td>payermonstationnement.fr</td>\n",
       "      <td>MAPS_AND_NAVIGATION</td>\n",
       "      <td>NaN</td>\n",
       "      <td>38</td>\n",
       "      <td>9.8M</td>\n",
       "      <td>5,000+</td>\n",
       "      <td>Free</td>\n",
       "      <td>0</td>\n",
       "      <td>Everyone</td>\n",
       "      <td>Maps &amp; Navigation</td>\n",
       "      <td>June 13, 2018</td>\n",
       "      <td>2.0.148.0</td>\n",
       "      <td>4.0 and up</td>\n",
       "    </tr>\n",
       "    <tr>\n",
       "      <th>10835</th>\n",
       "      <td>FR Forms</td>\n",
       "      <td>BUSINESS</td>\n",
       "      <td>NaN</td>\n",
       "      <td>0</td>\n",
       "      <td>9.6M</td>\n",
       "      <td>10+</td>\n",
       "      <td>Free</td>\n",
       "      <td>0</td>\n",
       "      <td>Everyone</td>\n",
       "      <td>Business</td>\n",
       "      <td>September 29, 2016</td>\n",
       "      <td>1.1.5</td>\n",
       "      <td>4.0 and up</td>\n",
       "    </tr>\n",
       "    <tr>\n",
       "      <th>10838</th>\n",
       "      <td>Parkinson Exercices FR</td>\n",
       "      <td>MEDICAL</td>\n",
       "      <td>NaN</td>\n",
       "      <td>3</td>\n",
       "      <td>9.5M</td>\n",
       "      <td>1,000+</td>\n",
       "      <td>Free</td>\n",
       "      <td>0</td>\n",
       "      <td>Everyone</td>\n",
       "      <td>Medical</td>\n",
       "      <td>January 20, 2017</td>\n",
       "      <td>1.0</td>\n",
       "      <td>2.2 and up</td>\n",
       "    </tr>\n",
       "  </tbody>\n",
       "</table>\n",
       "<p>1465 rows × 13 columns</p>\n",
       "</div>"
      ],
      "text/plain": [
       "                                       App             Category  Rating  \\\n",
       "23                  Mcqueen Coloring pages       ART_AND_DESIGN     NaN   \n",
       "113              Wrinkles and rejuvenation               BEAUTY     NaN   \n",
       "123                 Manicure - nail design               BEAUTY     NaN   \n",
       "126           Skin Care and Natural Beauty               BEAUTY     NaN   \n",
       "129    Secrets of beauty, youth and health               BEAUTY     NaN   \n",
       "...                                    ...                  ...     ...   \n",
       "10824                            Cardio-FR              MEDICAL     NaN   \n",
       "10825                   Naruto & Boruto FR               SOCIAL     NaN   \n",
       "10831             payermonstationnement.fr  MAPS_AND_NAVIGATION     NaN   \n",
       "10835                             FR Forms             BUSINESS     NaN   \n",
       "10838               Parkinson Exercices FR              MEDICAL     NaN   \n",
       "\n",
       "      Reviews  Size  Installs  Type Price Content Rating  \\\n",
       "23         61  7.0M  100,000+  Free     0       Everyone   \n",
       "113       182  5.7M  100,000+  Free     0   Everyone 10+   \n",
       "123       119  3.7M   50,000+  Free     0       Everyone   \n",
       "126       654  7.4M  100,000+  Free     0           Teen   \n",
       "129        77  2.9M   10,000+  Free     0     Mature 17+   \n",
       "...       ...   ...       ...   ...   ...            ...   \n",
       "10824      67   82M   10,000+  Free     0       Everyone   \n",
       "10825       7  7.7M      100+  Free     0           Teen   \n",
       "10831      38  9.8M    5,000+  Free     0       Everyone   \n",
       "10835       0  9.6M       10+  Free     0       Everyone   \n",
       "10838       3  9.5M    1,000+  Free     0       Everyone   \n",
       "\n",
       "                                Genres        Last Updated Current Ver  \\\n",
       "23     Art & Design;Action & Adventure       March 7, 2018       1.0.0   \n",
       "113                             Beauty  September 20, 2017         8.0   \n",
       "123                             Beauty       July 23, 2018         1.3   \n",
       "126                             Beauty       July 17, 2018        1.15   \n",
       "129                             Beauty      August 8, 2017         2.0   \n",
       "...                                ...                 ...         ...   \n",
       "10824                          Medical       July 31, 2018       2.2.2   \n",
       "10825                           Social    February 2, 2018         1.0   \n",
       "10831                Maps & Navigation       June 13, 2018   2.0.148.0   \n",
       "10835                         Business  September 29, 2016       1.1.5   \n",
       "10838                          Medical    January 20, 2017         1.0   \n",
       "\n",
       "      Android Ver  \n",
       "23     4.1 and up  \n",
       "113    3.0 and up  \n",
       "123    4.1 and up  \n",
       "126    4.1 and up  \n",
       "129    2.3 and up  \n",
       "...           ...  \n",
       "10824  4.4 and up  \n",
       "10825  4.0 and up  \n",
       "10831  4.0 and up  \n",
       "10835  4.0 and up  \n",
       "10838  2.2 and up  \n",
       "\n",
       "[1465 rows x 13 columns]"
      ]
     },
     "execution_count": 24,
     "metadata": {},
     "output_type": "execute_result"
    }
   ],
   "source": [
    "# getting all missing values from 'Rating' column\n",
    "missing_values_ratingcol = dataapps[dataapps['Rating'].isnull()]\n",
    "missing_values_ratingcol"
   ]
  },
  {
   "cell_type": "code",
   "execution_count": 25,
   "id": "6a465838",
   "metadata": {},
   "outputs": [],
   "source": [
    " # Droping rows with null values in 'Rating' column \n",
    "dataapps = dataapps.dropna(subset=['Rating'])"
   ]
  },
  {
   "cell_type": "code",
   "execution_count": 26,
   "id": "8d03ef9d",
   "metadata": {},
   "outputs": [
    {
     "data": {
      "text/plain": [
       "(8892, 13)"
      ]
     },
     "execution_count": 26,
     "metadata": {},
     "output_type": "execute_result"
    }
   ],
   "source": [
    "#post verification : after dropping columns from rating\n",
    "dataapps.shape"
   ]
  },
  {
   "cell_type": "code",
   "execution_count": 27,
   "id": "3f62ef0a",
   "metadata": {},
   "outputs": [
    {
     "name": "stdout",
     "output_type": "stream",
     "text": [
      "<class 'pandas.core.frame.DataFrame'>\n",
      "Int64Index: 8892 entries, 0 to 10840\n",
      "Data columns (total 13 columns):\n",
      " #   Column          Non-Null Count  Dtype  \n",
      "---  ------          --------------  -----  \n",
      " 0   App             8892 non-null   object \n",
      " 1   Category        8892 non-null   object \n",
      " 2   Rating          8892 non-null   float64\n",
      " 3   Reviews         8892 non-null   object \n",
      " 4   Size            8892 non-null   object \n",
      " 5   Installs        8892 non-null   object \n",
      " 6   Type            8892 non-null   object \n",
      " 7   Price           8892 non-null   object \n",
      " 8   Content Rating  8892 non-null   object \n",
      " 9   Genres          8892 non-null   object \n",
      " 10  Last Updated    8892 non-null   object \n",
      " 11  Current Ver     8888 non-null   object \n",
      " 12  Android Ver     8890 non-null   object \n",
      "dtypes: float64(1), object(12)\n",
      "memory usage: 972.6+ KB\n"
     ]
    }
   ],
   "source": [
    "dataapps.info()"
   ]
  },
  {
   "cell_type": "code",
   "execution_count": 28,
   "id": "10bd708a",
   "metadata": {},
   "outputs": [],
   "source": [
    "# Creating 'Rating_category' column based on the rating values\n",
    "dataapps['Rating_category'] = dataapps['Rating'].apply(lambda x: 'High' if x > 3.5 else 'Low') "
   ]
  },
  {
   "cell_type": "code",
   "execution_count": 29,
   "id": "10c5fc45",
   "metadata": {},
   "outputs": [
    {
     "data": {
      "text/plain": [
       "0        High\n",
       "1        High\n",
       "2        High\n",
       "3        High\n",
       "4        High\n",
       "         ... \n",
       "10834    High\n",
       "10836    High\n",
       "10837    High\n",
       "10839    High\n",
       "10840    High\n",
       "Name: Rating_category, Length: 8892, dtype: object"
      ]
     },
     "execution_count": 29,
     "metadata": {},
     "output_type": "execute_result"
    }
   ],
   "source": [
    "dataapps['Rating_category']"
   ]
  },
  {
   "cell_type": "code",
   "execution_count": 30,
   "id": "e990d513",
   "metadata": {},
   "outputs": [
    {
     "name": "stdout",
     "output_type": "stream",
     "text": [
      "<class 'pandas.core.frame.DataFrame'>\n",
      "Int64Index: 8892 entries, 0 to 10840\n",
      "Data columns (total 14 columns):\n",
      " #   Column           Non-Null Count  Dtype  \n",
      "---  ------           --------------  -----  \n",
      " 0   App              8892 non-null   object \n",
      " 1   Category         8892 non-null   object \n",
      " 2   Rating           8892 non-null   float64\n",
      " 3   Reviews          8892 non-null   object \n",
      " 4   Size             8892 non-null   object \n",
      " 5   Installs         8892 non-null   object \n",
      " 6   Type             8892 non-null   object \n",
      " 7   Price            8892 non-null   object \n",
      " 8   Content Rating   8892 non-null   object \n",
      " 9   Genres           8892 non-null   object \n",
      " 10  Last Updated     8892 non-null   object \n",
      " 11  Current Ver      8888 non-null   object \n",
      " 12  Android Ver      8890 non-null   object \n",
      " 13  Rating_category  8892 non-null   object \n",
      "dtypes: float64(1), object(13)\n",
      "memory usage: 1.0+ MB\n"
     ]
    }
   ],
   "source": [
    "dataapps.info()"
   ]
  },
  {
   "cell_type": "code",
   "execution_count": 31,
   "id": "377d9e15",
   "metadata": {},
   "outputs": [
    {
     "data": {
      "text/plain": [
       "(8892, 14)"
      ]
     },
     "execution_count": 31,
     "metadata": {},
     "output_type": "execute_result"
    }
   ],
   "source": [
    "#we can see new Column is created \n",
    "dataapps.shape"
   ]
  },
  {
   "cell_type": "markdown",
   "id": "4a272124",
   "metadata": {},
   "source": [
    "<font color='blue' size='5'> Q7. Check the distribution of the newly created column 'Rating_category' and comment on the distribution."
   ]
  },
  {
   "cell_type": "code",
   "execution_count": 32,
   "id": "fad5faaa",
   "metadata": {},
   "outputs": [
    {
     "data": {
      "text/plain": [
       "High    8012\n",
       "Low      880\n",
       "Name: Rating_category, dtype: int64"
      ]
     },
     "execution_count": 32,
     "metadata": {},
     "output_type": "execute_result"
    }
   ],
   "source": [
    "rating_category_distribution=dataapps['Rating_category'].value_counts()\n",
    "rating_category_distribution"
   ]
  },
  {
   "cell_type": "code",
   "execution_count": 33,
   "id": "981d02fa",
   "metadata": {},
   "outputs": [
    {
     "data": {
      "image/png": "[encoded data removed]",
      "text/plain": [
       "<Figure size 480x480 with 1 Axes>"
      ]
     },
     "metadata": {},
     "output_type": "display_data"
    }
   ],
   "source": [
    "# Creating a pie chart\n",
    "plt.figure(figsize=(6, 6))\n",
    "plt.pie(rating_category_distribution, labels=rating_category_distribution.index, autopct='%1.1f%%', startangle=140, colors=['lightblue', 'lightgreen'])\n",
    "plt.title('Distribution of Rating Categories')\n",
    "plt.axis('equal')  # Equal aspect ratio ensures that pie is drawn as a circle.\n",
    "plt.show()"
   ]
  },
  {
   "cell_type": "markdown",
   "id": "c0cf4d6c",
   "metadata": {},
   "source": [
    "The data is distributed between 'High' and 'Low' categories. \n",
    "\n",
    "The distribution of the 'Rating_category' column shows that the 'High' category accounts for 90.1% of the apps, while the 'Low' category represents 9.9%. This indicates that a majority of the apps have received ratings above 3.5, falling into the 'High' category."
   ]
  },
  {
   "cell_type": "markdown",
   "id": "b4c617a3",
   "metadata": {},
   "source": [
    "<font color='blue' size='5'> Q8. Convert the column \"Reviews'' to numeric data type and check the presence of outliers in the column and handle the outliers using a transformation approach.(Hint: Use log transformation)"
   ]
  },
  {
   "cell_type": "code",
   "execution_count": 35,
   "id": "aba18164",
   "metadata": {},
   "outputs": [],
   "source": [
    "# Converting \"Reviews\" column to numeric data type\n",
    "dataapps['Reviews'] = pd.to_numeric(dataapps['Reviews'], errors='coerce')  # Converting non-numeric values to NaN"
   ]
  },
  {
   "cell_type": "code",
   "execution_count": 36,
   "id": "26a278f8",
   "metadata": {},
   "outputs": [
    {
     "data": {
      "text/plain": [
       "dtype('int64')"
      ]
     },
     "execution_count": 36,
     "metadata": {},
     "output_type": "execute_result"
    }
   ],
   "source": [
    "#post verification : of datatype \n",
    "dataapps['Reviews'].dtype\n",
    "#intially we had object now it is converted to int "
   ]
  },
  {
   "cell_type": "code",
   "execution_count": 37,
   "id": "2e35181c",
   "metadata": {},
   "outputs": [
    {
     "data": {
      "image/png": "[encoded data removed]",
      "text/plain": [
       "<Figure size 640x480 with 1 Axes>"
      ]
     },
     "metadata": {},
     "output_type": "display_data"
    }
   ],
   "source": [
    "# Checking for presence of outliers\n",
    "\n",
    "plt.boxplot(dataapps['Reviews'])\n",
    "plt.title(\"Boxplot of Reviews\")\n",
    "plt.show()"
   ]
  },
  {
   "cell_type": "code",
   "execution_count": 38,
   "id": "86b8c230",
   "metadata": {},
   "outputs": [],
   "source": [
    "# Applying log transformation to handle outliers\n",
    "dataapps['Reviews'] = np.log1p(dataapps['Reviews']) "
   ]
  },
  {
   "cell_type": "code",
   "execution_count": 39,
   "id": "4ada8917",
   "metadata": {},
   "outputs": [
    {
     "data": {
      "image/png": "[encoded data removed]",
      "text/plain": [
       "<Figure size 640x480 with 1 Axes>"
      ]
     },
     "metadata": {},
     "output_type": "display_data"
    }
   ],
   "source": [
    "# Check for presence of outliers in log-transformed data\n",
    "plt.boxplot(dataapps['Reviews'])\n",
    "plt.title(\"Boxplot of Log-Transformed Reviews\")\n",
    "plt.show()"
   ]
  },
  {
   "cell_type": "code",
   "execution_count": null,
   "id": "b14e06a6",
   "metadata": {},
   "outputs": [],
   "source": [
    "# we can see all outliers for the Box plot are removed "
   ]
  },
  {
   "cell_type": "markdown",
   "id": "f67c990e",
   "metadata": {},
   "source": [
    "<font color='blue' size='5'> Q9. The column 'Size' contains alphanumeric values, treat the non numeric data and convert the column into suitable data type. (hint: Replace M with 1 million and K with 1 thousand, and drop the entries where size='Varies with device')"
   ]
  },
  {
   "cell_type": "code",
   "execution_count": 40,
   "id": "3ae49da8",
   "metadata": {},
   "outputs": [
    {
     "data": {
      "text/plain": [
       "Varies with device    1468\n",
       "14M                    154\n",
       "13M                    152\n",
       "12M                    151\n",
       "11M                    150\n",
       "                      ... \n",
       "383k                     1\n",
       "454k                     1\n",
       "812k                     1\n",
       "442k                     1\n",
       "619k                     1\n",
       "Name: Size, Length: 414, dtype: int64"
      ]
     },
     "execution_count": 40,
     "metadata": {},
     "output_type": "execute_result"
    }
   ],
   "source": [
    "dataapps['Size'].value_counts()"
   ]
  },
  {
   "cell_type": "code",
   "execution_count": 41,
   "id": "34606456",
   "metadata": {},
   "outputs": [],
   "source": [
    "# Replacing 'M' with 1 million and 'K' with 1 thousand\n",
    "dataapps['Size'] = dataapps['Size'].str.replace('M', 'e6').str.replace('k', 'e3')\n",
    "\n",
    "# Droping entries where 'Size' is 'Varies with device'\n",
    "dataapps = dataapps[dataapps['Size'] != 'Varies with device']\n",
    "\n",
    "# Converting 'Size' column to float data type\n",
    "dataapps['Size'] = dataapps['Size'].astype(float)"
   ]
  },
  {
   "cell_type": "code",
   "execution_count": 42,
   "id": "b04d7d04",
   "metadata": {},
   "outputs": [
    {
     "data": {
      "text/plain": [
       "14000000.0    154\n",
       "13000000.0    152\n",
       "12000000.0    151\n",
       "11000000.0    150\n",
       "15000000.0    149\n",
       "             ... \n",
       "383000.0        1\n",
       "454000.0        1\n",
       "812000.0        1\n",
       "442000.0        1\n",
       "619000.0        1\n",
       "Name: Size, Length: 412, dtype: int64"
      ]
     },
     "execution_count": 42,
     "metadata": {},
     "output_type": "execute_result"
    }
   ],
   "source": [
    "#post verififcation:\n",
    "dataapps['Size'].value_counts()\n",
    "#we can see all the Million & Thousands are replaced accordingly "
   ]
  },
  {
   "cell_type": "code",
   "execution_count": 43,
   "id": "bde6270d",
   "metadata": {},
   "outputs": [
    {
     "data": {
      "text/html": [
       "<div>\n",
       "<style scoped>\n",
       "    .dataframe tbody tr th:only-of-type {\n",
       "        vertical-align: middle;\n",
       "    }\n",
       "\n",
       "    .dataframe tbody tr th {\n",
       "        vertical-align: top;\n",
       "    }\n",
       "\n",
       "    .dataframe thead th {\n",
       "        text-align: right;\n",
       "    }\n",
       "</style>\n",
       "<table border=\"1\" class=\"dataframe\">\n",
       "  <thead>\n",
       "    <tr style=\"text-align: right;\">\n",
       "      <th></th>\n",
       "      <th>App</th>\n",
       "      <th>Category</th>\n",
       "      <th>Rating</th>\n",
       "      <th>Reviews</th>\n",
       "      <th>Size</th>\n",
       "      <th>Installs</th>\n",
       "      <th>Type</th>\n",
       "      <th>Price</th>\n",
       "      <th>Content Rating</th>\n",
       "      <th>Genres</th>\n",
       "      <th>Last Updated</th>\n",
       "      <th>Current Ver</th>\n",
       "      <th>Android Ver</th>\n",
       "      <th>Rating_category</th>\n",
       "    </tr>\n",
       "  </thead>\n",
       "  <tbody>\n",
       "  </tbody>\n",
       "</table>\n",
       "</div>"
      ],
      "text/plain": [
       "Empty DataFrame\n",
       "Columns: [App, Category, Rating, Reviews, Size, Installs, Type, Price, Content Rating, Genres, Last Updated, Current Ver, Android Ver, Rating_category]\n",
       "Index: []"
      ]
     },
     "execution_count": 43,
     "metadata": {},
     "output_type": "execute_result"
    }
   ],
   "source": [
    "#post verfifcation : we can see no rows with \"Varies with device\" in Size column \n",
    "dataapps[dataapps['Size'] == 'Varies with device']"
   ]
  },
  {
   "cell_type": "markdown",
   "id": "50a61ecc",
   "metadata": {},
   "source": [
    "<font color='blue' size='5'> Q10. Check the column 'Installs', treat the unwanted characters and convert the column into a suitable data type."
   ]
  },
  {
   "cell_type": "code",
   "execution_count": 44,
   "id": "c8f61dae",
   "metadata": {},
   "outputs": [
    {
     "data": {
      "text/plain": [
       "1,000,000+        1230\n",
       "100,000+          1003\n",
       "10,000+            949\n",
       "10,000,000+        762\n",
       "1,000+             675\n",
       "5,000,000+         493\n",
       "500,000+           471\n",
       "50,000+            432\n",
       "5,000+             414\n",
       "100+               297\n",
       "500+               195\n",
       "100,000,000+       192\n",
       "50,000,000+        144\n",
       "10+                 67\n",
       "50+                 56\n",
       "500,000,000+        24\n",
       "5+                   9\n",
       "1,000,000,000+       8\n",
       "1+                   3\n",
       "Name: Installs, dtype: int64"
      ]
     },
     "execution_count": 44,
     "metadata": {},
     "output_type": "execute_result"
    }
   ],
   "source": [
    "dataapps['Installs'].value_counts()"
   ]
  },
  {
   "cell_type": "code",
   "execution_count": 45,
   "id": "509fef39",
   "metadata": {},
   "outputs": [
    {
     "name": "stderr",
     "output_type": "stream",
     "text": [
      "C:\\Users\\Aneeshwar\\AppData\\Local\\Temp\\ipykernel_17496\\4058388952.py:2: FutureWarning: The default value of regex will change from True to False in a future version. In addition, single character regular expressions will *not* be treated as literal strings when regex=True.\n",
      "  dataapps['Installs'] = dataapps['Installs'].str.replace(',', '').str.replace('+', '')\n"
     ]
    }
   ],
   "source": [
    "# Removing unwanted characters from 'Installs' column i.e commos & + symbols \n",
    "dataapps['Installs'] = dataapps['Installs'].str.replace(',', '').str.replace('+', '')\n",
    "\n",
    "# Converting 'Installs' column to integer data type\n",
    "dataapps['Installs'] = dataapps['Installs'].astype(int)"
   ]
  },
  {
   "cell_type": "code",
   "execution_count": 46,
   "id": "66bbdfe5",
   "metadata": {},
   "outputs": [
    {
     "data": {
      "text/plain": [
       "1000000       1230\n",
       "100000        1003\n",
       "10000          949\n",
       "10000000       762\n",
       "1000           675\n",
       "5000000        493\n",
       "500000         471\n",
       "50000          432\n",
       "5000           414\n",
       "100            297\n",
       "500            195\n",
       "100000000      192\n",
       "50000000       144\n",
       "10              67\n",
       "50              56\n",
       "500000000       24\n",
       "5                9\n",
       "1000000000       8\n",
       "1                3\n",
       "Name: Installs, dtype: int64"
      ]
     },
     "execution_count": 46,
     "metadata": {},
     "output_type": "execute_result"
    }
   ],
   "source": [
    "#post verfifcation :  \n",
    "dataapps['Installs'].value_counts()\n",
    "#we can see all the commos and + symbols are replaced "
   ]
  },
  {
   "cell_type": "code",
   "execution_count": 47,
   "id": "0e6c378a",
   "metadata": {},
   "outputs": [
    {
     "name": "stdout",
     "output_type": "stream",
     "text": [
      "<class 'pandas.core.frame.DataFrame'>\n",
      "Int64Index: 7424 entries, 0 to 10840\n",
      "Data columns (total 14 columns):\n",
      " #   Column           Non-Null Count  Dtype  \n",
      "---  ------           --------------  -----  \n",
      " 0   App              7424 non-null   object \n",
      " 1   Category         7424 non-null   object \n",
      " 2   Rating           7424 non-null   float64\n",
      " 3   Reviews          7424 non-null   float64\n",
      " 4   Size             7424 non-null   float64\n",
      " 5   Installs         7424 non-null   int32  \n",
      " 6   Type             7424 non-null   object \n",
      " 7   Price            7424 non-null   object \n",
      " 8   Content Rating   7424 non-null   object \n",
      " 9   Genres           7424 non-null   object \n",
      " 10  Last Updated     7424 non-null   object \n",
      " 11  Current Ver      7420 non-null   object \n",
      " 12  Android Ver      7422 non-null   object \n",
      " 13  Rating_category  7424 non-null   object \n",
      "dtypes: float64(3), int32(1), object(10)\n",
      "memory usage: 841.0+ KB\n"
     ]
    }
   ],
   "source": [
    "#we can see \"installs\"  column it is converted to int datatype from object \n",
    "dataapps.info()"
   ]
  },
  {
   "cell_type": "markdown",
   "id": "5c6db21c",
   "metadata": {},
   "source": [
    "<font color='blue' size='5'>Q11. Check the column 'Price' , remove the unwanted characters and convert the column into a suitable data type."
   ]
  },
  {
   "cell_type": "code",
   "execution_count": 48,
   "id": "a77288aa",
   "metadata": {},
   "outputs": [
    {
     "data": {
      "text/plain": [
       "0          6877\n",
       "$0.99       104\n",
       "$2.99        98\n",
       "$4.99        61\n",
       "$1.99        53\n",
       "           ... \n",
       "$6.49         1\n",
       "$1.29         1\n",
       "$299.99       1\n",
       "$379.99       1\n",
       "$1.20         1\n",
       "Name: Price, Length: 68, dtype: int64"
      ]
     },
     "execution_count": 48,
     "metadata": {},
     "output_type": "execute_result"
    }
   ],
   "source": [
    "dataapps['Price'].value_counts()"
   ]
  },
  {
   "cell_type": "code",
   "execution_count": 49,
   "id": "329166d1",
   "metadata": {},
   "outputs": [
    {
     "name": "stderr",
     "output_type": "stream",
     "text": [
      "C:\\Users\\Aneeshwar\\AppData\\Local\\Temp\\ipykernel_17496\\3048654257.py:2: FutureWarning: The default value of regex will change from True to False in a future version. In addition, single character regular expressions will *not* be treated as literal strings when regex=True.\n",
      "  dataapps['Price'] = dataapps['Price'].str.replace('$', '')\n"
     ]
    }
   ],
   "source": [
    "# Removing unwanted characters ($) from 'Price' column\n",
    "dataapps['Price'] = dataapps['Price'].str.replace('$', '')\n",
    "\n",
    "# Converting 'Price' column to float data type\n",
    "dataapps['Price'] = dataapps['Price'].astype(float)"
   ]
  },
  {
   "cell_type": "code",
   "execution_count": 50,
   "id": "b8a2eb3b",
   "metadata": {},
   "outputs": [
    {
     "data": {
      "text/plain": [
       "0.00      6877\n",
       "0.99       104\n",
       "2.99        98\n",
       "4.99        61\n",
       "1.99        53\n",
       "          ... \n",
       "6.49         1\n",
       "1.29         1\n",
       "299.99       1\n",
       "379.99       1\n",
       "1.20         1\n",
       "Name: Price, Length: 68, dtype: int64"
      ]
     },
     "execution_count": 50,
     "metadata": {},
     "output_type": "execute_result"
    }
   ],
   "source": [
    "#post verifcation :\n",
    "dataapps['Price'].value_counts()\n",
    "#we can see no $ symbols "
   ]
  },
  {
   "cell_type": "code",
   "execution_count": 51,
   "id": "3ef43ab0",
   "metadata": {},
   "outputs": [
    {
     "name": "stdout",
     "output_type": "stream",
     "text": [
      "<class 'pandas.core.series.Series'>\n",
      "Int64Index: 7424 entries, 0 to 10840\n",
      "Series name: Price\n",
      "Non-Null Count  Dtype  \n",
      "--------------  -----  \n",
      "7424 non-null   float64\n",
      "dtypes: float64(1)\n",
      "memory usage: 116.0 KB\n"
     ]
    }
   ],
   "source": [
    "#Post verfication :  for the datatype of column \"Price\"\n",
    "dataapps['Price'].info()\n",
    "#we can see it is converted to float from object    "
   ]
  },
  {
   "cell_type": "markdown",
   "id": "70054f7c",
   "metadata": {},
   "source": [
    "<font color='blue' size='5'> Q12. Drop the columns which you think redundant for the analysis.(suggestion: drop column 'rating', since we created a new feature from it (i.e. rating_category) and the columns 'App', 'Rating' ,'Genres','Last Updated','Current Ver','Android Ver' columns since which are redundant for our analysis"
   ]
  },
  {
   "cell_type": "code",
   "execution_count": 52,
   "id": "5e85bcb4",
   "metadata": {},
   "outputs": [
    {
     "name": "stdout",
     "output_type": "stream",
     "text": [
      "<class 'pandas.core.frame.DataFrame'>\n",
      "Int64Index: 7424 entries, 0 to 10840\n",
      "Data columns (total 14 columns):\n",
      " #   Column           Non-Null Count  Dtype  \n",
      "---  ------           --------------  -----  \n",
      " 0   App              7424 non-null   object \n",
      " 1   Category         7424 non-null   object \n",
      " 2   Rating           7424 non-null   float64\n",
      " 3   Reviews          7424 non-null   float64\n",
      " 4   Size             7424 non-null   float64\n",
      " 5   Installs         7424 non-null   int32  \n",
      " 6   Type             7424 non-null   object \n",
      " 7   Price            7424 non-null   float64\n",
      " 8   Content Rating   7424 non-null   object \n",
      " 9   Genres           7424 non-null   object \n",
      " 10  Last Updated     7424 non-null   object \n",
      " 11  Current Ver      7420 non-null   object \n",
      " 12  Android Ver      7422 non-null   object \n",
      " 13  Rating_category  7424 non-null   object \n",
      "dtypes: float64(4), int32(1), object(9)\n",
      "memory usage: 841.0+ KB\n"
     ]
    }
   ],
   "source": [
    "dataapps.info()"
   ]
  },
  {
   "cell_type": "code",
   "execution_count": 53,
   "id": "9d5d8d85",
   "metadata": {},
   "outputs": [],
   "source": [
    "# Creating a List of columns to drop from dataset\n",
    "columns_to_drop = ['App', 'Rating', 'Genres', 'Last Updated', 'Current Ver', 'Android Ver']\n",
    "\n",
    "# Droping the specified columns from created List\n",
    "dataapps = dataapps.drop(columns=columns_to_drop, axis=1)"
   ]
  },
  {
   "cell_type": "code",
   "execution_count": 54,
   "id": "eeb15446",
   "metadata": {},
   "outputs": [
    {
     "name": "stdout",
     "output_type": "stream",
     "text": [
      "<class 'pandas.core.frame.DataFrame'>\n",
      "Int64Index: 7424 entries, 0 to 10840\n",
      "Data columns (total 8 columns):\n",
      " #   Column           Non-Null Count  Dtype  \n",
      "---  ------           --------------  -----  \n",
      " 0   Category         7424 non-null   object \n",
      " 1   Reviews          7424 non-null   float64\n",
      " 2   Size             7424 non-null   float64\n",
      " 3   Installs         7424 non-null   int32  \n",
      " 4   Type             7424 non-null   object \n",
      " 5   Price            7424 non-null   float64\n",
      " 6   Content Rating   7424 non-null   object \n",
      " 7   Rating_category  7424 non-null   object \n",
      "dtypes: float64(3), int32(1), object(4)\n",
      "memory usage: 493.0+ KB\n"
     ]
    }
   ],
   "source": [
    "#post verfication:\n",
    "dataapps.info()\n",
    "# we can see all the mentioned columns are dropped "
   ]
  },
  {
   "cell_type": "markdown",
   "id": "770bd8a2",
   "metadata": {},
   "source": [
    "<font color='blue' size='5'> Q13. Encode the categorical columns."
   ]
  },
  {
   "cell_type": "code",
   "execution_count": 56,
   "id": "501d9978",
   "metadata": {},
   "outputs": [
    {
     "name": "stdout",
     "output_type": "stream",
     "text": [
      "<class 'pandas.core.frame.DataFrame'>\n",
      "Int64Index: 7424 entries, 0 to 10840\n",
      "Data columns (total 8 columns):\n",
      " #   Column           Non-Null Count  Dtype  \n",
      "---  ------           --------------  -----  \n",
      " 0   Category         7424 non-null   object \n",
      " 1   Reviews          7424 non-null   float64\n",
      " 2   Size             7424 non-null   float64\n",
      " 3   Installs         7424 non-null   int32  \n",
      " 4   Type             7424 non-null   object \n",
      " 5   Price            7424 non-null   float64\n",
      " 6   Content Rating   7424 non-null   object \n",
      " 7   Rating_category  7424 non-null   object \n",
      "dtypes: float64(3), int32(1), object(4)\n",
      "memory usage: 493.0+ KB\n"
     ]
    }
   ],
   "source": [
    "dataapps.info()"
   ]
  },
  {
   "cell_type": "code",
   "execution_count": 58,
   "id": "288a2d05",
   "metadata": {},
   "outputs": [],
   "source": [
    "le = LabelEncoder()"
   ]
  },
  {
   "cell_type": "code",
   "execution_count": 59,
   "id": "8c12842a",
   "metadata": {},
   "outputs": [
    {
     "data": {
      "text/html": [
       "<style>#sk-container-id-1 {color: black;background-color: white;}#sk-container-id-1 pre{padding: 0;}#sk-container-id-1 div.sk-toggleable {background-color: white;}#sk-container-id-1 label.sk-toggleable__label {cursor: pointer;display: block;width: 100%;margin-bottom: 0;padding: 0.3em;box-sizing: border-box;text-align: center;}#sk-container-id-1 label.sk-toggleable__label-arrow:before {content: \"▸\";float: left;margin-right: 0.25em;color: #696969;}#sk-container-id-1 label.sk-toggleable__label-arrow:hover:before {color: black;}#sk-container-id-1 div.sk-estimator:hover label.sk-toggleable__label-arrow:before {color: black;}#sk-container-id-1 div.sk-toggleable__content {max-height: 0;max-width: 0;overflow: hidden;text-align: left;background-color: #f0f8ff;}#sk-container-id-1 div.sk-toggleable__content pre {margin: 0.2em;color: black;border-radius: 0.25em;background-color: #f0f8ff;}#sk-container-id-1 input.sk-toggleable__control:checked~div.sk-toggleable__content {max-height: 200px;max-width: 100%;overflow: auto;}#sk-container-id-1 input.sk-toggleable__control:checked~label.sk-toggleable__label-arrow:before {content: \"▾\";}#sk-container-id-1 div.sk-estimator input.sk-toggleable__control:checked~label.sk-toggleable__label {background-color: #d4ebff;}#sk-container-id-1 div.sk-label input.sk-toggleable__control:checked~label.sk-toggleable__label {background-color: #d4ebff;}#sk-container-id-1 input.sk-hidden--visually {border: 0;clip: rect(1px 1px 1px 1px);clip: rect(1px, 1px, 1px, 1px);height: 1px;margin: -1px;overflow: hidden;padding: 0;position: absolute;width: 1px;}#sk-container-id-1 div.sk-estimator {font-family: monospace;background-color: #f0f8ff;border: 1px dotted black;border-radius: 0.25em;box-sizing: border-box;margin-bottom: 0.5em;}#sk-container-id-1 div.sk-estimator:hover {background-color: #d4ebff;}#sk-container-id-1 div.sk-parallel-item::after {content: \"\";width: 100%;border-bottom: 1px solid gray;flex-grow: 1;}#sk-container-id-1 div.sk-label:hover label.sk-toggleable__label {background-color: #d4ebff;}#sk-container-id-1 div.sk-serial::before {content: \"\";position: absolute;border-left: 1px solid gray;box-sizing: border-box;top: 0;bottom: 0;left: 50%;z-index: 0;}#sk-container-id-1 div.sk-serial {display: flex;flex-direction: column;align-items: center;background-color: white;padding-right: 0.2em;padding-left: 0.2em;position: relative;}#sk-container-id-1 div.sk-item {position: relative;z-index: 1;}#sk-container-id-1 div.sk-parallel {display: flex;align-items: stretch;justify-content: center;background-color: white;position: relative;}#sk-container-id-1 div.sk-item::before, #sk-container-id-1 div.sk-parallel-item::before {content: \"\";position: absolute;border-left: 1px solid gray;box-sizing: border-box;top: 0;bottom: 0;left: 50%;z-index: -1;}#sk-container-id-1 div.sk-parallel-item {display: flex;flex-direction: column;z-index: 1;position: relative;background-color: white;}#sk-container-id-1 div.sk-parallel-item:first-child::after {align-self: flex-end;width: 50%;}#sk-container-id-1 div.sk-parallel-item:last-child::after {align-self: flex-start;width: 50%;}#sk-container-id-1 div.sk-parallel-item:only-child::after {width: 0;}#sk-container-id-1 div.sk-dashed-wrapped {border: 1px dashed gray;margin: 0 0.4em 0.5em 0.4em;box-sizing: border-box;padding-bottom: 0.4em;background-color: white;}#sk-container-id-1 div.sk-label label {font-family: monospace;font-weight: bold;display: inline-block;line-height: 1.2em;}#sk-container-id-1 div.sk-label-container {text-align: center;}#sk-container-id-1 div.sk-container {/* jupyter's `normalize.less` sets `[hidden] { display: none; }` but bootstrap.min.css set `[hidden] { display: none !important; }` so we also need the `!important` here to be able to override the default hidden behavior on the sphinx rendered scikit-learn.org. See: https://github.com/scikit-learn/scikit-learn/issues/21755 */display: inline-block !important;position: relative;}#sk-container-id-1 div.sk-text-repr-fallback {display: none;}</style><div id=\"sk-container-id-1\" class=\"sk-top-container\"><div class=\"sk-text-repr-fallback\"><pre>LabelEncoder()</pre><b>In a Jupyter environment, please rerun this cell to show the HTML representation or trust the notebook. <br />On GitHub, the HTML representation is unable to render, please try loading this page with nbviewer.org.</b></div><div class=\"sk-container\" hidden><div class=\"sk-item\"><div class=\"sk-estimator sk-toggleable\"><input class=\"sk-toggleable__control sk-hidden--visually\" id=\"sk-estimator-id-1\" type=\"checkbox\" checked><label for=\"sk-estimator-id-1\" class=\"sk-toggleable__label sk-toggleable__label-arrow\">LabelEncoder</label><div class=\"sk-toggleable__content\"><pre>LabelEncoder()</pre></div></div></div></div></div>"
      ],
      "text/plain": [
       "LabelEncoder()"
      ]
     },
     "execution_count": 59,
     "metadata": {},
     "output_type": "execute_result"
    }
   ],
   "source": [
    "le\n",
    "#Getting LabelEncoder from scikit-learn library has it is used for encoding categorical (ordinal) data into numerical format.\n",
    "#Its primary purpose is to convert categorical labels (text-based or string labels) into numerical labels."
   ]
  },
  {
   "cell_type": "code",
   "execution_count": 60,
   "id": "7b753fa7",
   "metadata": {},
   "outputs": [],
   "source": [
    "dataapps['Category'] = le.fit_transform(dataapps['Category'])"
   ]
  },
  {
   "cell_type": "code",
   "execution_count": 61,
   "id": "15fba0c1",
   "metadata": {},
   "outputs": [],
   "source": [
    "dataapps['Type'] = le.fit_transform(dataapps['Type'])"
   ]
  },
  {
   "cell_type": "code",
   "execution_count": 62,
   "id": "58643b76",
   "metadata": {},
   "outputs": [],
   "source": [
    "dataapps['Content Rating'] = le.fit_transform(dataapps['Content Rating'])"
   ]
  },
  {
   "cell_type": "code",
   "execution_count": 63,
   "id": "d80fe374",
   "metadata": {},
   "outputs": [],
   "source": [
    "dataapps['Rating_category'] = le.fit_transform(dataapps['Rating_category'])"
   ]
  },
  {
   "cell_type": "code",
   "execution_count": 64,
   "id": "c0596684",
   "metadata": {},
   "outputs": [
    {
     "name": "stdout",
     "output_type": "stream",
     "text": [
      "<class 'pandas.core.frame.DataFrame'>\n",
      "Int64Index: 7424 entries, 0 to 10840\n",
      "Data columns (total 8 columns):\n",
      " #   Column           Non-Null Count  Dtype  \n",
      "---  ------           --------------  -----  \n",
      " 0   Category         7424 non-null   int32  \n",
      " 1   Reviews          7424 non-null   float64\n",
      " 2   Size             7424 non-null   float64\n",
      " 3   Installs         7424 non-null   int32  \n",
      " 4   Type             7424 non-null   int32  \n",
      " 5   Price            7424 non-null   float64\n",
      " 6   Content Rating   7424 non-null   int32  \n",
      " 7   Rating_category  7424 non-null   int32  \n",
      "dtypes: float64(3), int32(5)\n",
      "memory usage: 377.0 KB\n"
     ]
    }
   ],
   "source": [
    "#Above the categorical columns are now converted to numerical columns \n",
    "dataapps.info()\n",
    "#Post verfifcation :  we can see now columns are converted from object to float or int data types "
   ]
  },
  {
   "cell_type": "markdown",
   "id": "d1539417",
   "metadata": {},
   "source": [
    "<font color='blue' size='5'> Q14. Segregate the target and independent features (Hint: Use Rating_category as the target)\n"
   ]
  },
  {
   "cell_type": "code",
   "execution_count": 65,
   "id": "d587d650",
   "metadata": {},
   "outputs": [],
   "source": [
    "# Separate the target ('Rating_category') from the independent features\n",
    "X = dataapps.drop(columns=['Rating_category'])  # Independent features\n",
    "y = dataapps['Rating_category']  # Target\n"
   ]
  },
  {
   "cell_type": "code",
   "execution_count": 66,
   "id": "e0c3db48",
   "metadata": {},
   "outputs": [
    {
     "data": {
      "text/plain": [
       "(7424, 7)"
      ]
     },
     "execution_count": 66,
     "metadata": {},
     "output_type": "execute_result"
    }
   ],
   "source": [
    "X.shape"
   ]
  },
  {
   "cell_type": "code",
   "execution_count": 67,
   "id": "172335a7",
   "metadata": {},
   "outputs": [
    {
     "data": {
      "text/plain": [
       "<bound method NDFrame.head of        Category    Reviews        Size  Installs  Type  Price  Content Rating\n",
       "0             0   5.075174  19000000.0     10000     0    0.0               1\n",
       "1             0   6.875232  14000000.0    500000     0    0.0               1\n",
       "2             0  11.379520   8700000.0   5000000     0    0.0               1\n",
       "3             0  12.281389  25000000.0  50000000     0    0.0               4\n",
       "4             0   6.875232   2800000.0    100000     0    0.0               1\n",
       "...         ...        ...         ...       ...   ...    ...             ...\n",
       "10833         3   3.806662    619000.0      1000     0    0.0               1\n",
       "10834        11   2.079442   2600000.0       500     0    0.0               1\n",
       "10836        11   3.663562  53000000.0      5000     0    0.0               1\n",
       "10837        11   1.609438   3600000.0       100     0    0.0               1\n",
       "10840        18  12.894981  19000000.0  10000000     0    0.0               1\n",
       "\n",
       "[7424 rows x 7 columns]>"
      ]
     },
     "execution_count": 67,
     "metadata": {},
     "output_type": "execute_result"
    }
   ],
   "source": [
    "X.head"
   ]
  },
  {
   "cell_type": "code",
   "execution_count": 68,
   "id": "e2ed5dd7",
   "metadata": {},
   "outputs": [
    {
     "data": {
      "text/plain": [
       "(7424,)"
      ]
     },
     "execution_count": 68,
     "metadata": {},
     "output_type": "execute_result"
    }
   ],
   "source": [
    "y.shape"
   ]
  },
  {
   "cell_type": "code",
   "execution_count": 69,
   "id": "a0f15947",
   "metadata": {},
   "outputs": [
    {
     "data": {
      "text/plain": [
       "<bound method NDFrame.head of 0        0\n",
       "1        0\n",
       "2        0\n",
       "3        0\n",
       "4        0\n",
       "        ..\n",
       "10833    0\n",
       "10834    0\n",
       "10836    0\n",
       "10837    0\n",
       "10840    0\n",
       "Name: Rating_category, Length: 7424, dtype: int32>"
      ]
     },
     "execution_count": 69,
     "metadata": {},
     "output_type": "execute_result"
    }
   ],
   "source": [
    "y.head"
   ]
  },
  {
   "cell_type": "code",
   "execution_count": 70,
   "id": "17bc91dc",
   "metadata": {},
   "outputs": [
    {
     "name": "stdout",
     "output_type": "stream",
     "text": [
      "<class 'pandas.core.series.Series'>\n",
      "Int64Index: 7424 entries, 0 to 10840\n",
      "Series name: Rating_category\n",
      "Non-Null Count  Dtype\n",
      "--------------  -----\n",
      "7424 non-null   int32\n",
      "dtypes: int32(1)\n",
      "memory usage: 87.0 KB\n"
     ]
    }
   ],
   "source": [
    "y.info()"
   ]
  },
  {
   "cell_type": "code",
   "execution_count": 72,
   "id": "e702c4a7",
   "metadata": {},
   "outputs": [
    {
     "name": "stdout",
     "output_type": "stream",
     "text": [
      "<class 'pandas.core.frame.DataFrame'>\n",
      "Int64Index: 7424 entries, 0 to 10840\n",
      "Data columns (total 7 columns):\n",
      " #   Column          Non-Null Count  Dtype  \n",
      "---  ------          --------------  -----  \n",
      " 0   Category        7424 non-null   int32  \n",
      " 1   Reviews         7424 non-null   float64\n",
      " 2   Size            7424 non-null   float64\n",
      " 3   Installs        7424 non-null   int32  \n",
      " 4   Type            7424 non-null   int32  \n",
      " 5   Price           7424 non-null   float64\n",
      " 6   Content Rating  7424 non-null   int32  \n",
      "dtypes: float64(3), int32(4)\n",
      "memory usage: 348.0 KB\n"
     ]
    }
   ],
   "source": [
    "X.info()"
   ]
  },
  {
   "cell_type": "markdown",
   "id": "22816f8a",
   "metadata": {},
   "source": [
    "<font color='blue' size='5'> Q15. Split the dataset into train and test."
   ]
  },
  {
   "cell_type": "code",
   "execution_count": 75,
   "id": "c5ce4825",
   "metadata": {},
   "outputs": [
    {
     "name": "stdout",
     "output_type": "stream",
     "text": [
      "Shape of X_train: (5939, 7)\n",
      "Shape of X_test: (1485, 7)\n",
      "Shape of y_train: (5939, 1)\n",
      "Shape of y_test: (1485, 1)\n"
     ]
    }
   ],
   "source": [
    "# Spliting the dataset into train and test sets\n",
    "X_train, X_test, y_train, y_test = train_test_split(X, y, test_size=0.2, random_state=42)\n",
    "\n",
    "# printing the shapes of train and test sets\n",
    "print(\"Shape of X_train:\", X_train.shape)\n",
    "print(\"Shape of X_test:\", X_test.shape)\n",
    "print(\"Shape of y_train:\", y_train.shape)\n",
    "print(\"Shape of y_test:\", y_test.shape)\n"
   ]
  },
  {
   "cell_type": "markdown",
   "id": "93d5468f",
   "metadata": {},
   "source": [
    "<font color='blue' size='5'> Q16. Standardize the data, so that the values are within a particular range."
   ]
  },
  {
   "cell_type": "code",
   "execution_count": 78,
   "id": "d4e725ec",
   "metadata": {},
   "outputs": [],
   "source": [
    "scale = StandardScaler()\n",
    "\n",
    "#scale = StandardScaler() creates an instance of the StandardScaler class from the scikit-learn library \n",
    "#StandardScaler is a preprocessing technique used to transform your data in such a way that it has a mean (average) of 0\n",
    "#and a standard deviation of 1. This transformation is applied to each feature independently. "
   ]
  },
  {
   "cell_type": "code",
   "execution_count": 84,
   "id": "14cb2f1c",
   "metadata": {},
   "outputs": [],
   "source": [
    "X_train.iloc[:,1:4] = scale.fit_transform(X_train.iloc[:,1:4])\n",
    "#applying Standardization for training set for all rows and 3 columns(Category,Reviews,Size)"
   ]
  },
  {
   "cell_type": "code",
   "execution_count": 85,
   "id": "9cc9654b",
   "metadata": {},
   "outputs": [],
   "source": [
    "X_test.iloc[:,1:4] = scale.fit_transform(X_test.iloc[:,1:4])\n",
    "#applying Standardization for test set for all rows and 3 columns(Category,Reviews,Size)"
   ]
  },
  {
   "cell_type": "code",
   "execution_count": 86,
   "id": "71c2737c",
   "metadata": {},
   "outputs": [
    {
     "data": {
      "text/html": [
       "<div>\n",
       "<style scoped>\n",
       "    .dataframe tbody tr th:only-of-type {\n",
       "        vertical-align: middle;\n",
       "    }\n",
       "\n",
       "    .dataframe tbody tr th {\n",
       "        vertical-align: top;\n",
       "    }\n",
       "\n",
       "    .dataframe thead th {\n",
       "        text-align: right;\n",
       "    }\n",
       "</style>\n",
       "<table border=\"1\" class=\"dataframe\">\n",
       "  <thead>\n",
       "    <tr style=\"text-align: right;\">\n",
       "      <th></th>\n",
       "      <th>Category</th>\n",
       "      <th>Reviews</th>\n",
       "      <th>Size</th>\n",
       "      <th>Installs</th>\n",
       "      <th>Type</th>\n",
       "      <th>Price</th>\n",
       "      <th>Content Rating</th>\n",
       "    </tr>\n",
       "  </thead>\n",
       "  <tbody>\n",
       "    <tr>\n",
       "      <th>9375</th>\n",
       "      <td>28</td>\n",
       "      <td>0.763470</td>\n",
       "      <td>1.370587</td>\n",
       "      <td>-0.057566</td>\n",
       "      <td>0</td>\n",
       "      <td>0.0</td>\n",
       "      <td>1</td>\n",
       "    </tr>\n",
       "    <tr>\n",
       "      <th>3025</th>\n",
       "      <td>28</td>\n",
       "      <td>0.767310</td>\n",
       "      <td>0.093936</td>\n",
       "      <td>-0.146613</td>\n",
       "      <td>0</td>\n",
       "      <td>0.0</td>\n",
       "      <td>1</td>\n",
       "    </tr>\n",
       "    <tr>\n",
       "      <th>7549</th>\n",
       "      <td>23</td>\n",
       "      <td>0.167948</td>\n",
       "      <td>-0.923130</td>\n",
       "      <td>-0.166648</td>\n",
       "      <td>0</td>\n",
       "      <td>0.0</td>\n",
       "      <td>1</td>\n",
       "    </tr>\n",
       "    <tr>\n",
       "      <th>6782</th>\n",
       "      <td>6</td>\n",
       "      <td>0.616788</td>\n",
       "      <td>-0.889085</td>\n",
       "      <td>-0.057566</td>\n",
       "      <td>0</td>\n",
       "      <td>0.0</td>\n",
       "      <td>1</td>\n",
       "    </tr>\n",
       "    <tr>\n",
       "      <th>1709</th>\n",
       "      <td>14</td>\n",
       "      <td>2.127191</td>\n",
       "      <td>3.115343</td>\n",
       "      <td>2.057298</td>\n",
       "      <td>0</td>\n",
       "      <td>0.0</td>\n",
       "      <td>1</td>\n",
       "    </tr>\n",
       "    <tr>\n",
       "      <th>...</th>\n",
       "      <td>...</td>\n",
       "      <td>...</td>\n",
       "      <td>...</td>\n",
       "      <td>...</td>\n",
       "      <td>...</td>\n",
       "      <td>...</td>\n",
       "      <td>...</td>\n",
       "    </tr>\n",
       "    <tr>\n",
       "      <th>7754</th>\n",
       "      <td>28</td>\n",
       "      <td>-1.298989</td>\n",
       "      <td>-0.906107</td>\n",
       "      <td>-0.168873</td>\n",
       "      <td>0</td>\n",
       "      <td>0.0</td>\n",
       "      <td>1</td>\n",
       "    </tr>\n",
       "    <tr>\n",
       "      <th>7795</th>\n",
       "      <td>11</td>\n",
       "      <td>0.032256</td>\n",
       "      <td>-0.684821</td>\n",
       "      <td>-0.167762</td>\n",
       "      <td>0</td>\n",
       "      <td>0.0</td>\n",
       "      <td>4</td>\n",
       "    </tr>\n",
       "    <tr>\n",
       "      <th>7988</th>\n",
       "      <td>11</td>\n",
       "      <td>0.551714</td>\n",
       "      <td>-0.416725</td>\n",
       "      <td>-0.157744</td>\n",
       "      <td>0</td>\n",
       "      <td>0.0</td>\n",
       "      <td>4</td>\n",
       "    </tr>\n",
       "    <tr>\n",
       "      <th>1446</th>\n",
       "      <td>16</td>\n",
       "      <td>1.431268</td>\n",
       "      <td>0.476931</td>\n",
       "      <td>0.053743</td>\n",
       "      <td>0</td>\n",
       "      <td>0.0</td>\n",
       "      <td>1</td>\n",
       "    </tr>\n",
       "    <tr>\n",
       "      <th>10599</th>\n",
       "      <td>25</td>\n",
       "      <td>-1.555501</td>\n",
       "      <td>0.859927</td>\n",
       "      <td>-0.168863</td>\n",
       "      <td>0</td>\n",
       "      <td>0.0</td>\n",
       "      <td>1</td>\n",
       "    </tr>\n",
       "  </tbody>\n",
       "</table>\n",
       "<p>5939 rows × 7 columns</p>\n",
       "</div>"
      ],
      "text/plain": [
       "       Category   Reviews      Size  Installs  Type  Price  Content Rating\n",
       "9375         28  0.763470  1.370587 -0.057566     0    0.0               1\n",
       "3025         28  0.767310  0.093936 -0.146613     0    0.0               1\n",
       "7549         23  0.167948 -0.923130 -0.166648     0    0.0               1\n",
       "6782          6  0.616788 -0.889085 -0.057566     0    0.0               1\n",
       "1709         14  2.127191  3.115343  2.057298     0    0.0               1\n",
       "...         ...       ...       ...       ...   ...    ...             ...\n",
       "7754         28 -1.298989 -0.906107 -0.168873     0    0.0               1\n",
       "7795         11  0.032256 -0.684821 -0.167762     0    0.0               4\n",
       "7988         11  0.551714 -0.416725 -0.157744     0    0.0               4\n",
       "1446         16  1.431268  0.476931  0.053743     0    0.0               1\n",
       "10599        25 -1.555501  0.859927 -0.168863     0    0.0               1\n",
       "\n",
       "[5939 rows x 7 columns]"
      ]
     },
     "execution_count": 86,
     "metadata": {},
     "output_type": "execute_result"
    }
   ],
   "source": [
    "X_train"
   ]
  },
  {
   "cell_type": "code",
   "execution_count": 87,
   "id": "ad1c167a",
   "metadata": {},
   "outputs": [
    {
     "data": {
      "text/html": [
       "<div>\n",
       "<style scoped>\n",
       "    .dataframe tbody tr th:only-of-type {\n",
       "        vertical-align: middle;\n",
       "    }\n",
       "\n",
       "    .dataframe tbody tr th {\n",
       "        vertical-align: top;\n",
       "    }\n",
       "\n",
       "    .dataframe thead th {\n",
       "        text-align: right;\n",
       "    }\n",
       "</style>\n",
       "<table border=\"1\" class=\"dataframe\">\n",
       "  <thead>\n",
       "    <tr style=\"text-align: right;\">\n",
       "      <th></th>\n",
       "      <th>Category</th>\n",
       "      <th>Reviews</th>\n",
       "      <th>Size</th>\n",
       "      <th>Installs</th>\n",
       "      <th>Type</th>\n",
       "      <th>Price</th>\n",
       "      <th>Content Rating</th>\n",
       "    </tr>\n",
       "  </thead>\n",
       "  <tbody>\n",
       "    <tr>\n",
       "      <th>1867</th>\n",
       "      <td>14</td>\n",
       "      <td>1.301152</td>\n",
       "      <td>2.522173</td>\n",
       "      <td>-0.073400</td>\n",
       "      <td>0</td>\n",
       "      <td>0.0</td>\n",
       "      <td>4</td>\n",
       "    </tr>\n",
       "    <tr>\n",
       "      <th>4414</th>\n",
       "      <td>14</td>\n",
       "      <td>-0.833722</td>\n",
       "      <td>-0.646067</td>\n",
       "      <td>-0.170400</td>\n",
       "      <td>0</td>\n",
       "      <td>0.0</td>\n",
       "      <td>1</td>\n",
       "    </tr>\n",
       "    <tr>\n",
       "      <th>116</th>\n",
       "      <td>2</td>\n",
       "      <td>-0.854448</td>\n",
       "      <td>-0.848938</td>\n",
       "      <td>-0.170400</td>\n",
       "      <td>0</td>\n",
       "      <td>0.0</td>\n",
       "      <td>1</td>\n",
       "    </tr>\n",
       "    <tr>\n",
       "      <th>7608</th>\n",
       "      <td>11</td>\n",
       "      <td>0.830821</td>\n",
       "      <td>3.255961</td>\n",
       "      <td>-0.151156</td>\n",
       "      <td>0</td>\n",
       "      <td>0.0</td>\n",
       "      <td>1</td>\n",
       "    </tr>\n",
       "    <tr>\n",
       "      <th>9463</th>\n",
       "      <td>11</td>\n",
       "      <td>0.889755</td>\n",
       "      <td>1.961040</td>\n",
       "      <td>-0.073400</td>\n",
       "      <td>0</td>\n",
       "      <td>0.0</td>\n",
       "      <td>1</td>\n",
       "    </tr>\n",
       "    <tr>\n",
       "      <th>...</th>\n",
       "      <td>...</td>\n",
       "      <td>...</td>\n",
       "      <td>...</td>\n",
       "      <td>...</td>\n",
       "      <td>...</td>\n",
       "      <td>...</td>\n",
       "      <td>...</td>\n",
       "    </tr>\n",
       "    <tr>\n",
       "      <th>701</th>\n",
       "      <td>8</td>\n",
       "      <td>0.094701</td>\n",
       "      <td>-0.197161</td>\n",
       "      <td>-0.168651</td>\n",
       "      <td>0</td>\n",
       "      <td>0.0</td>\n",
       "      <td>1</td>\n",
       "    </tr>\n",
       "    <tr>\n",
       "      <th>1245</th>\n",
       "      <td>13</td>\n",
       "      <td>0.392535</td>\n",
       "      <td>0.104987</td>\n",
       "      <td>-0.168651</td>\n",
       "      <td>0</td>\n",
       "      <td>0.0</td>\n",
       "      <td>1</td>\n",
       "    </tr>\n",
       "    <tr>\n",
       "      <th>4228</th>\n",
       "      <td>29</td>\n",
       "      <td>0.407749</td>\n",
       "      <td>-0.805774</td>\n",
       "      <td>-0.151156</td>\n",
       "      <td>0</td>\n",
       "      <td>0.0</td>\n",
       "      <td>1</td>\n",
       "    </tr>\n",
       "    <tr>\n",
       "      <th>5766</th>\n",
       "      <td>14</td>\n",
       "      <td>1.830721</td>\n",
       "      <td>1.486236</td>\n",
       "      <td>0.023794</td>\n",
       "      <td>0</td>\n",
       "      <td>0.0</td>\n",
       "      <td>4</td>\n",
       "    </tr>\n",
       "    <tr>\n",
       "      <th>10166</th>\n",
       "      <td>28</td>\n",
       "      <td>-1.457173</td>\n",
       "      <td>1.961040</td>\n",
       "      <td>-0.170593</td>\n",
       "      <td>0</td>\n",
       "      <td>0.0</td>\n",
       "      <td>1</td>\n",
       "    </tr>\n",
       "  </tbody>\n",
       "</table>\n",
       "<p>1485 rows × 7 columns</p>\n",
       "</div>"
      ],
      "text/plain": [
       "       Category   Reviews      Size  Installs  Type  Price  Content Rating\n",
       "1867         14  1.301152  2.522173 -0.073400     0    0.0               4\n",
       "4414         14 -0.833722 -0.646067 -0.170400     0    0.0               1\n",
       "116           2 -0.854448 -0.848938 -0.170400     0    0.0               1\n",
       "7608         11  0.830821  3.255961 -0.151156     0    0.0               1\n",
       "9463         11  0.889755  1.961040 -0.073400     0    0.0               1\n",
       "...         ...       ...       ...       ...   ...    ...             ...\n",
       "701           8  0.094701 -0.197161 -0.168651     0    0.0               1\n",
       "1245         13  0.392535  0.104987 -0.168651     0    0.0               1\n",
       "4228         29  0.407749 -0.805774 -0.151156     0    0.0               1\n",
       "5766         14  1.830721  1.486236  0.023794     0    0.0               4\n",
       "10166        28 -1.457173  1.961040 -0.170593     0    0.0               1\n",
       "\n",
       "[1485 rows x 7 columns]"
      ]
     },
     "execution_count": 87,
     "metadata": {},
     "output_type": "execute_result"
    }
   ],
   "source": [
    "X_test"
   ]
  },
  {
   "cell_type": "code",
   "execution_count": null,
   "id": "042cd332",
   "metadata": {},
   "outputs": [],
   "source": []
  }
 ],
 "metadata": {
  "kernelspec": {
   "display_name": "Python 3 (ipykernel)",
   "language": "python",
   "name": "python3"
  },
  "language_info": {
   "codemirror_mode": {
    "name": "ipython",
    "version": 3
   },
   "file_extension": ".py",
   "mimetype": "text/x-python",
   "name": "python",
   "nbconvert_exporter": "python",
   "pygments_lexer": "ipython3",
   "version": "3.11.3"
  }
 },
 "nbformat": 4,
 "nbformat_minor": 5
}
